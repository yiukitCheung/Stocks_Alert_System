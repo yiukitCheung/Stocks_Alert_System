{
 "cells": [
  {
   "cell_type": "markdown",
   "metadata": {},
   "source": [
    "## Fetch Data form Database"
   ]
  },
  {
   "cell_type": "code",
   "execution_count": 178,
   "metadata": {},
   "outputs": [],
   "source": [
    "import pandas as pd\n",
    "import numpy as np\n",
    "import ta\n",
    "import pymongo\n",
    "import dash\n",
    "from dash import dcc, html\n",
    "from dash.dependencies import Input, Output\n",
    "import plotly.graph_objects as go\n",
    "import plotly.subplots as sp\n",
    "import yfinance as yf\n",
    "# Fetch data from database\n",
    "\n",
    "# Connect to MongoDB\n",
    "client = pymongo.MongoClient(\"mongodb://localhost:27017/\")\n",
    "# Select the database\n",
    "db = client[\"streaming_data\"]\n",
    "# Select the collection\n",
    "collection = db[\"5m_stock_datastream\"]\n",
    "# Fetch specific stock\n",
    "data = collection.find({'symbol': 'ISRG'})\n",
    "# Convert to pandas dataframe\n",
    "df = pd.DataFrame(list(data))\n",
    "\n",
    "# Set maximum number of columns to display\n",
    "pd.set_option('display.max_columns', None)  \n",
    "# Set maximum width for each column\n",
    "pd.set_option('display.max_colwidth', None)  \n",
    "# Set maximum width for the entire DataFrame\n",
    "pd.set_option('display.width', None)  "
   ]
  },
  {
   "cell_type": "code",
   "execution_count": 132,
   "metadata": {},
   "outputs": [
    {
     "data": {
      "text/html": [
       "<div>\n",
       "<style scoped>\n",
       "    .dataframe tbody tr th:only-of-type {\n",
       "        vertical-align: middle;\n",
       "    }\n",
       "\n",
       "    .dataframe tbody tr th {\n",
       "        vertical-align: top;\n",
       "    }\n",
       "\n",
       "    .dataframe thead th {\n",
       "        text-align: right;\n",
       "    }\n",
       "</style>\n",
       "<table border=\"1\" class=\"dataframe\">\n",
       "  <thead>\n",
       "    <tr style=\"text-align: right;\">\n",
       "      <th></th>\n",
       "      <th>date</th>\n",
       "      <th>symbol</th>\n",
       "      <th>_id</th>\n",
       "      <th>interval</th>\n",
       "      <th>bullish_engulfer</th>\n",
       "      <th>datetime</th>\n",
       "      <th>bearish_engulfer</th>\n",
       "    </tr>\n",
       "  </thead>\n",
       "  <tbody>\n",
       "    <tr>\n",
       "      <th>0</th>\n",
       "      <td>2024-09-30 13:30:00</td>\n",
       "      <td>ISRG</td>\n",
       "      <td>66fb293abaf3e7bfc7be238e</td>\n",
       "      <td>60m</td>\n",
       "      <td>True</td>\n",
       "      <td>2024-09-30 13:30:00</td>\n",
       "      <td>NaN</td>\n",
       "    </tr>\n",
       "    <tr>\n",
       "      <th>1</th>\n",
       "      <td>2024-09-30 14:00:00</td>\n",
       "      <td>ISRG</td>\n",
       "      <td>66fb293abaf3e7bfc7be238f</td>\n",
       "      <td>60m</td>\n",
       "      <td>NaN</td>\n",
       "      <td>2024-09-30 14:00:00</td>\n",
       "      <td>True</td>\n",
       "    </tr>\n",
       "    <tr>\n",
       "      <th>2</th>\n",
       "      <td>2024-09-30 15:00:00</td>\n",
       "      <td>ISRG</td>\n",
       "      <td>66fb293abaf3e7bfc7be2390</td>\n",
       "      <td>60m</td>\n",
       "      <td>True</td>\n",
       "      <td>2024-09-30 15:00:00</td>\n",
       "      <td>NaN</td>\n",
       "    </tr>\n",
       "  </tbody>\n",
       "</table>\n",
       "</div>"
      ],
      "text/plain": [
       "                 date symbol                       _id interval  \\\n",
       "0 2024-09-30 13:30:00   ISRG  66fb293abaf3e7bfc7be238e      60m   \n",
       "1 2024-09-30 14:00:00   ISRG  66fb293abaf3e7bfc7be238f      60m   \n",
       "2 2024-09-30 15:00:00   ISRG  66fb293abaf3e7bfc7be2390      60m   \n",
       "\n",
       "  bullish_engulfer            datetime bearish_engulfer  \n",
       "0             True 2024-09-30 13:30:00              NaN  \n",
       "1              NaN 2024-09-30 14:00:00             True  \n",
       "2             True 2024-09-30 15:00:00              NaN  "
      ]
     },
     "execution_count": 132,
     "metadata": {},
     "output_type": "execute_result"
    }
   ],
   "source": [
    "df"
   ]
  },
  {
   "cell_type": "markdown",
   "metadata": {},
   "source": [
    "## Add Technical Features"
   ]
  },
  {
   "cell_type": "code",
   "execution_count": 33,
   "metadata": {},
   "outputs": [],
   "source": [
    "# Add bull and bear features in the dataframe\n",
    "class add_features:\n",
    "    def __init__(self, df):\n",
    "        self.df = df.copy()\n",
    "\n",
    "    def add_candlestick(self):\n",
    "        self.df[\"BodyDiff\"] = abs(self.df[\"open\"] - self.df[\"close\"])\n",
    "        self.df[\"CandleStickType\"] = np.where(self.df[\"open\"] < self.df[\"close\"], \"green\", \"red\")\n",
    "        return self.df\n",
    "\n",
    "    def continuous_increase(self, windows=3):\n",
    "        for i in range(1, windows + 1):\n",
    "            self.df[f\"close_t-{i}\"] = self.df[\"close\"].shift(i)\n",
    "\n",
    "        self.df['Incremental_High'] = (self.df['close'] > self.df['close_t-1']) \\\n",
    "                                        & (self.df['close_t-1'] > self.df['close_t-2']) \\\n",
    "                                        & (self.df['close_t-2'] > self.df['close_t-3'])\n",
    "        return self.df\n",
    "\n",
    "    def macd_golden_cross(self):\n",
    "        self.df['MACD_GOLDEN_CROSS'] = (self.df['MACD'] > self.df['MACD_SIGNAL']) & (self.df['MACD'] < 0)\n",
    "        return self.df\n",
    "\n",
    "    def add_ema_band(self, threshold=0.05):\n",
    "        self.df['169EMA_Upper'] = self.df['169EMA'] * (1 + threshold)\n",
    "        self.df['169EMA_Lower'] = self.df['169EMA'] * (1 - threshold)\n",
    "        return self.df\n",
    "    \n",
    "    # Add Technical Indicators\n",
    "    def add_technical(self):\n",
    "        \n",
    "        # Add ema dual channels technical indicators\n",
    "        self.df['8EMA'] = ta.trend.ema_indicator(self.df['close'], window=8)\n",
    "        self.df['13EMA'] = ta.trend.ema_indicator(self.df['close'], window=13)\n",
    "        self.df['144EMA'] = ta.trend.ema_indicator(self.df['close'], window=144)\n",
    "        self.df['169EMA'] = ta.trend.ema_indicator(self.df['close'], window=169)\n",
    "\n",
    "        # Add MACD technical indicator\n",
    "        self.df['MACD'] = ta.trend.macd(self.df['close'], \n",
    "                                        window_slow=26, \n",
    "                                        window_fast=12)\n",
    "        \n",
    "        self.df['MACD_SIGNAL'] = ta.trend.macd_signal(self.df['close'], \n",
    "                                                    window_slow=26, \n",
    "                                                    window_fast=12, \n",
    "                                                    window_sign=9)\n",
    "        \n",
    "        self.df['MACD_HIST'] = ta.trend.macd_diff(self.df['close'], \n",
    "                                                window_slow=26, \n",
    "                                                window_fast=12, \n",
    "                                                window_sign=9)\n",
    "        \n",
    "        # Add ATR technical indicator\n",
    "        self.df[\"atr\"] = ta.volatility.AverageTrueRange(high=self.df.high, \n",
    "                                                        low=self.df.low, \n",
    "                                                        close=self.df.close).average_true_range()\n",
    "        \n",
    "        self.df[\"atr\"] = self.df.atr.rolling(window=30).mean()\n",
    "        \n",
    "        return self.df\n",
    "    \n",
    "    def apply(self):\n",
    "        self.add_technical()\n",
    "        self.add_candlestick()\n",
    "        self.continuous_increase()\n",
    "        self.macd_golden_cross()\n",
    "        self.add_ema_band()\n",
    "        \n",
    "        # Use last 1000 rows of the dataframe\n",
    "        self.df = self.df.tail(3000) if len(self.df) > 3000 else self.df\n",
    "        return self.df\n",
    "    \n",
    "testing_df = add_features(df).apply()"
   ]
  },
  {
   "cell_type": "markdown",
   "metadata": {},
   "source": [
    "## Apply Strategy"
   ]
  },
  {
   "cell_type": "code",
   "execution_count": 34,
   "metadata": {},
   "outputs": [
    {
     "name": "stdout",
     "output_type": "stream",
     "text": [
      "Bullish MACD Count: 879 | Bearish Count: 995\n",
      "Bullish Engulf Count: 101 | Bearish Engulf Count: 115\n",
      "Bullish 382 Count: 1217 | Bearish 382 Count: 1783\n",
      "Bullish Dual Channel Count: 679 | Bearish Dual Channel Count: 741\n"
     ]
    }
   ],
   "source": [
    "class Alert:\n",
    "    \n",
    "    def __init__(self, df):\n",
    "        self.df = df.copy()\n",
    "        self.df['MACD_Alert'] = -1  \n",
    "        self.df['Engulf_Alert'] = -1 \n",
    "        self.df['dual_channel_Alert'] = -1  \n",
    "        self.df['382_Alert'] = -1  \n",
    "        self.window = 3  # Number of days to compare the stock price\n",
    "        \n",
    "    def engulf_alert(self):\n",
    "        \n",
    "        # Previous Candle\n",
    "        prev_open = self.df['open'].shift(1)\n",
    "        prev_close = self.df['close'].shift(1)\n",
    "        \n",
    "        # Current Candle\n",
    "        current_open = self.df['open']\n",
    "        current_close = self.df['close']\n",
    "\n",
    "        # Bullish Engulfing: current green candle engulfs previous red candle\n",
    "        bullish_engulfing = (\n",
    "            (prev_close < prev_open) &  # Previous candle was red\n",
    "            (current_close > current_open) &  # Current candle is green\n",
    "            (current_open < prev_close) & \n",
    "            (current_close > prev_open)\n",
    "        )\n",
    "\n",
    "        # Bearish Engulfing: current red candle engulfs previous green candle\n",
    "        bearish_engulfing = (\n",
    "            (prev_close > prev_open) &  # Previous candle was green\n",
    "            (current_close < current_open) &  # Current candle is red\n",
    "            (current_open > prev_close) & \n",
    "            (current_close < prev_open)\n",
    "        )\n",
    "\n",
    "        # Apply the conditions to the DataFrame\n",
    "        self.df.loc[bullish_engulfing, 'Engulf_Alert'] = 1\n",
    "        self.df.loc[bearish_engulfing, 'Engulf_Alert'] = 0\n",
    "        \n",
    "        return self.df\n",
    "\n",
    "    def macd_alert(self):\n",
    "        \n",
    "        # Pre-compute conditions\n",
    "        macd_above_signal = self.df['MACD'] > self.df['MACD_SIGNAL']\n",
    "        macd_increasing = self.df['MACD'].diff() > 0\n",
    "        macd_below_zero = self.df['MACD'] >= 0\n",
    "\n",
    "        # Bullish condition\n",
    "        bullish_macd = (\n",
    "            macd_above_signal &\n",
    "            macd_increasing&\n",
    "            macd_below_zero\n",
    "        )\n",
    "        \n",
    "        # Bearish condition\n",
    "        bearish_macd = (\n",
    "            (self.df['MACD'] < self.df['MACD_SIGNAL']) &\n",
    "            (self.df['MACD'] > self.df['MACD'].shift(-1))  \n",
    "        )\n",
    "\n",
    "        # Apply the conditions to the DataFrame\n",
    "        self.df.loc[bullish_macd, 'MACD_Alert'] = 1\n",
    "        self.df.loc[bearish_macd, 'MACD_Alert'] = 0\n",
    "\n",
    "        return self.df\n",
    "\n",
    "    def dual_channel(self):\n",
    "        \n",
    "        # Confirm Technical Indicators Conditions\n",
    "        ema_8_gt_ema_13 = self.df['8EMA'] > self.df['13EMA']\n",
    "        ema_13_gt_ema_169 = self.df['13EMA'] > self.df['169EMA']\n",
    "        ema_8_gt_ema_144 = self.df['8EMA'] > self.df['144EMA']\n",
    "        \n",
    "        # Confirm Close price action\n",
    "        close_ge_ema_13 = self.df['close'] >= self.df['13EMA']\n",
    "        close_ge_ema_144 = self.df['close'] >= self.df['144EMA']\n",
    "        \n",
    "        # Confirm Candle fully above 13 EMA\n",
    "        low_ge_ema_13 = self.df['low'] >= self.df['13EMA'] \n",
    "        green_candle = self.df['CandleStickType'] == 'green'    \n",
    "        \n",
    "        # Confirm Candle in selected range\n",
    "        open_in_slow_ema = self.df['open'].between(self.df['169EMA_Lower'], self.df['169EMA_Upper'])\n",
    "        \n",
    "        # Confirm Candle type\n",
    "        green_candle = self.df['CandleStickType'] == 'green'\n",
    "        \n",
    "        # Bullish Conditions\n",
    "        \n",
    "        bullish_scenario_1 = (\n",
    "            ema_8_gt_ema_13 & \n",
    "            ema_13_gt_ema_169 & \n",
    "            close_ge_ema_13 &\n",
    "            low_ge_ema_13 &\n",
    "            green_candle\n",
    "        )\n",
    "        \n",
    "        # Bearish Condition\n",
    "        bearish_scenario_1 = (\n",
    "            (self.df['open'] < self.df['13EMA']) &\n",
    "            (self.df['close'] < self.df['13EMA']) &\n",
    "            (self.df['13EMA'] < self.df['8EMA'])\n",
    "        )\n",
    "        # Bullish Conditions 2\n",
    "        bullish_scenario_2 = ( \n",
    "            ema_8_gt_ema_144 &\n",
    "            ema_13_gt_ema_169 &\n",
    "            close_ge_ema_144 &\n",
    "            open_in_slow_ema &\n",
    "            green_candle\n",
    "            )\n",
    "        \n",
    "        # Bearish Condition 2\n",
    "        bearish_scenario_2 = (\n",
    "            (self.df['open'] < self.df['13EMA']) &\n",
    "            (self.df['close'] < self.df['13EMA']) &\n",
    "            (self.df['8EMA'] < self.df['13EMA']) &\n",
    "            ~ open_in_slow_ema\n",
    "        )\n",
    "\n",
    "        # Apply conditions on different price scenarios\n",
    "        \n",
    "        self.df.loc[bullish_scenario_1 | bullish_scenario_2, 'dual_channel_Alert'] = 1\n",
    "        self.df.loc[bearish_scenario_1 | bearish_scenario_2, 'dual_channel_Alert'] = 0\n",
    "        \n",
    "        return self.df\n",
    "\n",
    "    def bullish_382_alert(self):\n",
    "        # Calculate Fibonacci 38.2% retracement level\n",
    "        diff = self.df['high'] - self.df['low']\n",
    "        fib_382_level = self.df['high'] - 0.382 * diff\n",
    "        open_above_fib_382 = self.df['open'] > fib_382_level\n",
    "        \n",
    "        # Apply condition\n",
    "        self.df.loc[open_above_fib_382, '382_Alert'] = 1\n",
    "        self.df.loc[~open_above_fib_382, '382_Alert'] = 0\n",
    "        \n",
    "        return self.df\n",
    "\n",
    "    def add_alert(self):\n",
    "        self.engulf_alert()\n",
    "        self.macd_alert()\n",
    "        self.dual_channel()\n",
    "        self.bullish_382_alert()\n",
    "        return self.df\n",
    "    \n",
    "# Apply the strategy\n",
    "testing_df = Alert(testing_df).add_alert()\n",
    "\n",
    "print(f\"Bullish MACD Count: {len(testing_df[testing_df['MACD_Alert'] == 1])} | Bearish Count: {len(testing_df[testing_df['MACD_Alert'] == 0])}\")\n",
    "print(f\"Bullish Engulf Count: {len(testing_df[testing_df['Engulf_Alert'] == 1])} | Bearish Engulf Count: {len(testing_df[testing_df['Engulf_Alert'] == 0])}\")\n",
    "print(f\"Bullish 382 Count: {len(testing_df[testing_df['382_Alert'] == 1])} | Bearish 382 Count: {len(testing_df[testing_df['382_Alert'] == 0])}\")\n",
    "print(f\"Bullish Dual Channel Count: {len(testing_df[testing_df['dual_channel_Alert'] == 1])} | Bearish Dual Channel Count: {len(testing_df[testing_df['dual_channel_Alert'] == 0])}\")\n"
   ]
  },
  {
   "cell_type": "markdown",
   "metadata": {},
   "source": [
    "## Simulated trading"
   ]
  },
  {
   "cell_type": "code",
   "execution_count": 37,
   "metadata": {},
   "outputs": [
    {
     "name": "stdout",
     "output_type": "stream",
     "text": [
      "Technical Strategic Total Return: 606931.0044755108\n"
     ]
    }
   ],
   "source": [
    "import pandas as pd\n",
    "\n",
    "class TradingStrategy:\n",
    "    def __init__(self, df, initial_capital=10000):\n",
    "        self.df = df\n",
    "        self.initial_capital = initial_capital\n",
    "        self.trades = []\n",
    "        self.current_trade = {}\n",
    "        self.total_values = initial_capital\n",
    "\n",
    "    def execute_trades(self):\n",
    "        for date in range(len(self.df) - 1):\n",
    "            try:\n",
    "                # Sell Trade\n",
    "                if len(self.current_trade) != 0:\n",
    "                    if (self.df['dual_channel_Alert'].iloc[date] == 0) or date == len(self.df) - 1:\n",
    "                        # Has Trade and Bearish\n",
    "                        self.trades.append(\n",
    "                            {\n",
    "                                \"Entry_price\": self.current_trade[\"entry_price\"],\n",
    "                                \"Entry_date\": self.current_trade[\"entry_date\"],\n",
    "                                \"Exit_price\": self.df['open'].iloc[date],\n",
    "                                \"Exit_date\": self.df['date'].iloc[date],\n",
    "                                \"profit\": (self.df['open'].iloc[date] / self.current_trade['entry_price']) - 1,\n",
    "                                \"total_asset\": (self.total_values * (self.df.iloc[date].open / self.current_trade['entry_price']) - 1)\n",
    "                            }\n",
    "                        )\n",
    "                        # Update total asset\n",
    "                        self.total_values = (self.total_values * (self.df.iloc[date + 1].open / self.current_trade['entry_price']))\n",
    "\n",
    "                        # Close Trade\n",
    "                        self.current_trade = {}\n",
    "\n",
    "                # Buy Trade\n",
    "                elif (self.df['dual_channel_Alert'].iloc[date] == 1) and (len(self.current_trade) == 0):  # No Trade and Bullish\n",
    "                    self.current_trade[\"entry_price\"] = self.df['close'].iloc[date]\n",
    "                    self.current_trade[\"entry_date\"] = self.df['date'].iloc[date]\n",
    "\n",
    "            except IndexError:\n",
    "                print(\"No Trade Data\")\n",
    "\n",
    "    def get_trades(self):\n",
    "        return pd.DataFrame(self.trades)\n",
    "\n",
    "    def get_total_return(self):\n",
    "        if self.trades:\n",
    "            return self.trades[-1]['total_asset']\n",
    "        return 0\n",
    "\n",
    "# Usage\n",
    "\n",
    "strategy = TradingStrategy(testing_df)\n",
    "strategy.execute_trades()\n",
    "trades_df = strategy.get_trades()\n",
    "total_return = strategy.get_total_return()\n",
    "\n",
    "print(f\"Technical Strategic Total Return: {total_return}\")\n",
    "\n",
    "total_return = 0"
   ]
  },
  {
   "cell_type": "markdown",
   "metadata": {},
   "source": [
    "## Teesting Static Dashboard"
   ]
  },
  {
   "cell_type": "code",
   "execution_count": null,
   "metadata": {},
   "outputs": [],
   "source": [
    "df = collection.find()\n",
    "\n",
    "# Initialize Dash app\n",
    "app = dash.Dash(__name__)\n",
    "\n",
    "# Create figure with subplots\n",
    "fig = sp.make_subplots(rows=3, cols=1, shared_xaxes=True, vertical_spacing=0.1, row_heights=[0.65, 0.15, 0.25])\n",
    "\n",
    "# Define the layout of the Dash app\n",
    "app.layout = html.Div([\n",
    "    dcc.Dropdown(\n",
    "        id='stock-selector',\n",
    "        options=[{'label': symbol, 'value': symbol} for symbol in collection.distinct(\"symbol\")],\n",
    "        value=collection.distinct(\"symbol\")[0]\n",
    "    ),\n",
    "    dcc.Graph(id='sandbox_testing_graph', figure=fig)\n",
    "])\n",
    "\n",
    "# Callback to update the graph based on selected stock and selected range\n",
    "@app.callback(\n",
    "    Output('sandbox_testing_graph', 'figure'),\n",
    "    [Input('stock-selector', 'value'), Input('sandbox_testing_graph', 'relayoutData')]\n",
    ")\n",
    "def update_chart(selected_stock, relayout_data):\n",
    "    # Fetch specific stock\n",
    "    filtered_query = collection.find({\"symbol\": f\"{selected_stock}\"})\n",
    "    # Convert to pandas dataframe\n",
    "    filtered_df = pd.DataFrame(list(filtered_query))   \n",
    "    # Add technical features\n",
    "    filtered_df = add_features(filtered_df).apply()\n",
    "\n",
    "    # Add Alerts\n",
    "    filtered_df = Alert(filtered_df).add_alert()\n",
    "    \n",
    "    # Sandbox Testing\n",
    "    \n",
    "    trades_history = TradingStrategy(filtered_df)\n",
    "    trades_history.execute_trades()\n",
    "    filtered_trades = trades_history.get_trades()\n",
    "    \n",
    "    # Create figure with subplots\n",
    "    fig = sp.make_subplots(rows=3, cols=1, shared_xaxes=True, vertical_spacing=0.1, row_heights=[0.65, 0.15, 0.25])\n",
    "\n",
    "    # Candlestick chart\n",
    "    fig.add_trace(go.Candlestick(\n",
    "        x=filtered_df['date'],\n",
    "        open=filtered_df['open'],\n",
    "        high=filtered_df['high'],\n",
    "        low=filtered_df['low'],\n",
    "        close=filtered_df['close'],\n",
    "        name='price'), row=1, col=1)\n",
    "\n",
    "    # Add EMA traces as lines\n",
    "    fig.add_trace(go.Scatter(x=filtered_df['date'], y=filtered_df['144EMA'], \n",
    "                            mode=\"lines\", name=\"EMA 144\"), row=1, col=1)\n",
    "    fig.add_trace(go.Scatter(x=filtered_df['date'], y=filtered_df['169EMA'],\n",
    "                            mode=\"lines\", name=\"EMA 169\"), row=1, col=1)\n",
    "    fig.add_trace(go.Scatter(x=filtered_df['date'], y=filtered_df['13EMA'],\n",
    "                            mode=\"lines\", name=\"EMA 13\"), row=1, col=1)\n",
    "    fig.add_trace(go.Scatter(x=filtered_df['date'], y=filtered_df['8EMA'],\n",
    "                            mode=\"lines\", name=\"EMA 8\"), row=1, col=1)\n",
    "\n",
    "    # Add Buy / Sell Annotations\n",
    "    fig.add_trace(go.Scatter(\n",
    "                    x=filtered_trades.Entry_date,\n",
    "                    y=filtered_trades.Entry_price,\n",
    "                    mode=\"markers\",\n",
    "                    customdata=filtered_trades,\n",
    "                    marker_symbol=\"diamond-dot\",\n",
    "                    marker_size=8,\n",
    "                    marker_line_width=2,\n",
    "                    marker_line_color=\"rgba(0,0,0,0.7)\",\n",
    "                    marker_color=\"rgba(0,255,0,0.7)\",\n",
    "                    hovertemplate=\"Entry Time: %{customdata[1]}<br>\" +\\\n",
    "                        \"Entry Price: %{y:.2f}<br>\" +\\\n",
    "                        \"Total Asset: %{customdata[5]:.3f}\",\n",
    "                    name=\"Entries\"), row=1, col=1)\n",
    "\n",
    "    fig.add_trace(go.Scatter(\n",
    "                    x=filtered_trades.Exit_date,\n",
    "                    y=filtered_trades.Exit_price,\n",
    "                    mode=\"markers\",\n",
    "                    customdata=filtered_trades,\n",
    "                    marker_symbol=\"diamond-dot\",\n",
    "                    marker_size=8,\n",
    "                    marker_line_width=2,\n",
    "                    marker_line_color=\"rgba(0,0,0,0.7)\",\n",
    "                    marker_color=\"rgba(255,0,0,0.7)\",\n",
    "                    hovertemplate=\"Exit Time: %{customdata[1]}<br>\" +\\\n",
    "                        \"Exit Price: %{y:.2f}<br>\" +\\\n",
    "                        \"Total Asset: %{customdata[5]:.3f}\",\n",
    "                    name=\"Exits\"), row=1, col=1)\n",
    "\n",
    "    # Add MACD subplot\n",
    "    fig.add_trace(go.Scatter(x=filtered_df['date'], y=filtered_df['MACD'], \n",
    "                            mode='lines', name='MACD'), row=2, col=1)\n",
    "    fig.add_trace(go.Scatter(x=filtered_df['date'], y=filtered_df['MACD_SIGNAL'],\n",
    "                            mode='lines', name='MACD signal'), row=2, col=1)\n",
    "\n",
    "    # Add Profit subplot\n",
    "    fig.add_trace(go.Scatter(x=filtered_trades['Exit_date'], y=filtered_trades['total_asset'], \n",
    "                            mode='lines', name='Profit'), row=3, col=1)\n",
    "\n",
    "    # Layout settings\n",
    "    fig.update_layout(\n",
    "        xaxis_rangeslider_visible=False,\n",
    "        autosize=False,\n",
    "        width=1000,  # Width of the figure in pixels\n",
    "        height=800,  # Height of the figure in pixels\n",
    "    )\n",
    "\n",
    "    # If a new x-axis range is selected or zoomed\n",
    "    if relayout_data and 'xaxis.range[0]' in relayout_data and 'xaxis.range[1]' in relayout_data:\n",
    "        x_start = relayout_data['xaxis.range[0]']\n",
    "        x_end = relayout_data['xaxis.range[1]']\n",
    "\n",
    "        # Filter the data based on the selected x-axis range\n",
    "        filtered_data = filtered_df[(filtered_df['date'] >= x_start) & (filtered_df['date'] <= x_end)]\n",
    "        trades_filtered = filtered_trades[(filtered_trades['Exit_date'] >= x_start) & (filtered_trades['Exit_date'] <= x_end)]\n",
    "        \n",
    "        # Calculate the new y-axis range for the candlestick chart\n",
    "        y_min = filtered_data['low'].min()\n",
    "        y_max = filtered_data['high'].max()\n",
    "\n",
    "        # Calculate the new y-axis range for the MACD chart\n",
    "        y_min_macd = filtered_data[['MACD', 'MACD_SIGNAL']].min().min()\n",
    "        y_max_macd = filtered_data[['MACD', 'MACD_SIGNAL']].max().max()\n",
    "\n",
    "        # Calculate the new y-axis range for the Profit chart\n",
    "        y_min_profit = trades_filtered['total_asset'].min()\n",
    "        y_max_profit = trades_filtered['total_asset'].max()\n",
    "\n",
    "        # Update the figure with new y-axis and x-axis ranges\n",
    "        fig.update_xaxes(range=[x_start, x_end], row=1, col=1)\n",
    "        fig.update_xaxes(range=[x_start, x_end], row=2, col=1)  \n",
    "        fig.update_xaxes(range=[x_start, x_end], row=3, col=1) \n",
    "        \n",
    "        fig.update_yaxes(range=[y_min, y_max], row=1, col=1)\n",
    "        fig.update_yaxes(range=[y_min_macd, y_max_macd], row=2, col=1)\n",
    "        fig.update_yaxes(range=[y_min_profit, y_max_profit], row=3, col=1)\n",
    "\n",
    "    return fig\n",
    "\n",
    "# Run the app\n",
    "if __name__ == '__main__':\n",
    "    app.run_server(debug=True)"
   ]
  },
  {
   "cell_type": "markdown",
   "metadata": {},
   "source": [
    "## Test Engulfing Method"
   ]
  },
  {
   "cell_type": "code",
   "execution_count": 186,
   "metadata": {},
   "outputs": [
    {
     "name": "stderr",
     "output_type": "stream",
     "text": [
      "/var/folders/pv/rbjx7k1j5cs6jxs5pskztclh0000gn/T/ipykernel_29066/2835045034.py:8: FutureWarning:\n",
      "\n",
      "'T' is deprecated and will be removed in a future version, please use 'min' instead.\n",
      "\n"
     ]
    },
    {
     "data": {
      "text/html": [
       "<div>\n",
       "<style scoped>\n",
       "    .dataframe tbody tr th:only-of-type {\n",
       "        vertical-align: middle;\n",
       "    }\n",
       "\n",
       "    .dataframe tbody tr th {\n",
       "        vertical-align: top;\n",
       "    }\n",
       "\n",
       "    .dataframe thead th {\n",
       "        text-align: right;\n",
       "    }\n",
       "</style>\n",
       "<table border=\"1\" class=\"dataframe\">\n",
       "  <thead>\n",
       "    <tr style=\"text-align: right;\">\n",
       "      <th></th>\n",
       "      <th>date</th>\n",
       "      <th>symbol</th>\n",
       "      <th>interval</th>\n",
       "      <th>_id</th>\n",
       "      <th>datetime</th>\n",
       "      <th>open</th>\n",
       "      <th>high</th>\n",
       "      <th>low</th>\n",
       "      <th>close</th>\n",
       "    </tr>\n",
       "  </thead>\n",
       "  <tbody>\n",
       "    <tr>\n",
       "      <th>23</th>\n",
       "      <td>2024-09-27 11:25:00</td>\n",
       "      <td>AAPL</td>\n",
       "      <td>15m</td>\n",
       "      <td>id_23</td>\n",
       "      <td>2024-09-27 11:25:00</td>\n",
       "      <td>152.582965</td>\n",
       "      <td>155.239738</td>\n",
       "      <td>148.070201</td>\n",
       "      <td>152.727351</td>\n",
       "    </tr>\n",
       "    <tr>\n",
       "      <th>85</th>\n",
       "      <td>2024-09-27 16:35:00</td>\n",
       "      <td>AAPL</td>\n",
       "      <td>15m</td>\n",
       "      <td>id_85</td>\n",
       "      <td>2024-09-27 16:35:00</td>\n",
       "      <td>155.754880</td>\n",
       "      <td>158.482964</td>\n",
       "      <td>152.838036</td>\n",
       "      <td>153.813059</td>\n",
       "    </tr>\n",
       "    <tr>\n",
       "      <th>91</th>\n",
       "      <td>2024-09-27 17:05:00</td>\n",
       "      <td>AAPL</td>\n",
       "      <td>15m</td>\n",
       "      <td>id_91</td>\n",
       "      <td>2024-09-27 17:05:00</td>\n",
       "      <td>157.725543</td>\n",
       "      <td>158.072350</td>\n",
       "      <td>152.909431</td>\n",
       "      <td>157.118565</td>\n",
       "    </tr>\n",
       "    <tr>\n",
       "      <th>24</th>\n",
       "      <td>2024-09-27 11:30:00</td>\n",
       "      <td>AAPL</td>\n",
       "      <td>30m</td>\n",
       "      <td>id_24</td>\n",
       "      <td>2024-09-27 11:30:00</td>\n",
       "      <td>151.799712</td>\n",
       "      <td>154.502888</td>\n",
       "      <td>149.273450</td>\n",
       "      <td>151.037822</td>\n",
       "    </tr>\n",
       "    <tr>\n",
       "      <th>33</th>\n",
       "      <td>2024-09-27 12:15:00</td>\n",
       "      <td>AAPL</td>\n",
       "      <td>30m</td>\n",
       "      <td>id_33</td>\n",
       "      <td>2024-09-27 12:15:00</td>\n",
       "      <td>152.213762</td>\n",
       "      <td>152.606044</td>\n",
       "      <td>147.463453</td>\n",
       "      <td>151.886735</td>\n",
       "    </tr>\n",
       "    <tr>\n",
       "      <th>...</th>\n",
       "      <td>...</td>\n",
       "      <td>...</td>\n",
       "      <td>...</td>\n",
       "      <td>...</td>\n",
       "      <td>...</td>\n",
       "      <td>...</td>\n",
       "      <td>...</td>\n",
       "      <td>...</td>\n",
       "      <td>...</td>\n",
       "    </tr>\n",
       "    <tr>\n",
       "      <th>62</th>\n",
       "      <td>2024-09-27 14:40:00</td>\n",
       "      <td>TSLA</td>\n",
       "      <td>5m</td>\n",
       "      <td>id_62</td>\n",
       "      <td>2024-09-27 14:40:00</td>\n",
       "      <td>154.089648</td>\n",
       "      <td>156.547728</td>\n",
       "      <td>153.665460</td>\n",
       "      <td>155.905852</td>\n",
       "    </tr>\n",
       "    <tr>\n",
       "      <th>71</th>\n",
       "      <td>2024-09-27 15:25:00</td>\n",
       "      <td>TSLA</td>\n",
       "      <td>5m</td>\n",
       "      <td>id_71</td>\n",
       "      <td>2024-09-27 15:25:00</td>\n",
       "      <td>158.018970</td>\n",
       "      <td>161.148269</td>\n",
       "      <td>157.601466</td>\n",
       "      <td>159.108243</td>\n",
       "    </tr>\n",
       "    <tr>\n",
       "      <th>72</th>\n",
       "      <td>2024-09-27 15:30:00</td>\n",
       "      <td>TSLA</td>\n",
       "      <td>5m</td>\n",
       "      <td>id_72</td>\n",
       "      <td>2024-09-27 15:30:00</td>\n",
       "      <td>157.795507</td>\n",
       "      <td>160.311188</td>\n",
       "      <td>153.909772</td>\n",
       "      <td>157.876161</td>\n",
       "    </tr>\n",
       "    <tr>\n",
       "      <th>80</th>\n",
       "      <td>2024-09-27 16:10:00</td>\n",
       "      <td>TSLA</td>\n",
       "      <td>5m</td>\n",
       "      <td>id_80</td>\n",
       "      <td>2024-09-27 16:10:00</td>\n",
       "      <td>157.172253</td>\n",
       "      <td>161.873404</td>\n",
       "      <td>156.890736</td>\n",
       "      <td>158.192802</td>\n",
       "    </tr>\n",
       "    <tr>\n",
       "      <th>96</th>\n",
       "      <td>2024-09-27 17:30:00</td>\n",
       "      <td>TSLA</td>\n",
       "      <td>5m</td>\n",
       "      <td>id_96</td>\n",
       "      <td>2024-09-27 17:30:00</td>\n",
       "      <td>156.953918</td>\n",
       "      <td>157.309861</td>\n",
       "      <td>154.315412</td>\n",
       "      <td>158.403373</td>\n",
       "    </tr>\n",
       "  </tbody>\n",
       "</table>\n",
       "<p>100 rows × 9 columns</p>\n",
       "</div>"
      ],
      "text/plain": [
       "                  date symbol interval    _id            datetime        open  \\\n",
       "23 2024-09-27 11:25:00   AAPL      15m  id_23 2024-09-27 11:25:00  152.582965   \n",
       "85 2024-09-27 16:35:00   AAPL      15m  id_85 2024-09-27 16:35:00  155.754880   \n",
       "91 2024-09-27 17:05:00   AAPL      15m  id_91 2024-09-27 17:05:00  157.725543   \n",
       "24 2024-09-27 11:30:00   AAPL      30m  id_24 2024-09-27 11:30:00  151.799712   \n",
       "33 2024-09-27 12:15:00   AAPL      30m  id_33 2024-09-27 12:15:00  152.213762   \n",
       "..                 ...    ...      ...    ...                 ...         ...   \n",
       "62 2024-09-27 14:40:00   TSLA       5m  id_62 2024-09-27 14:40:00  154.089648   \n",
       "71 2024-09-27 15:25:00   TSLA       5m  id_71 2024-09-27 15:25:00  158.018970   \n",
       "72 2024-09-27 15:30:00   TSLA       5m  id_72 2024-09-27 15:30:00  157.795507   \n",
       "80 2024-09-27 16:10:00   TSLA       5m  id_80 2024-09-27 16:10:00  157.172253   \n",
       "96 2024-09-27 17:30:00   TSLA       5m  id_96 2024-09-27 17:30:00  156.953918   \n",
       "\n",
       "          high         low       close  \n",
       "23  155.239738  148.070201  152.727351  \n",
       "85  158.482964  152.838036  153.813059  \n",
       "91  158.072350  152.909431  157.118565  \n",
       "24  154.502888  149.273450  151.037822  \n",
       "33  152.606044  147.463453  151.886735  \n",
       "..         ...         ...         ...  \n",
       "62  156.547728  153.665460  155.905852  \n",
       "71  161.148269  157.601466  159.108243  \n",
       "72  160.311188  153.909772  157.876161  \n",
       "80  161.873404  156.890736  158.192802  \n",
       "96  157.309861  154.315412  158.403373  \n",
       "\n",
       "[100 rows x 9 columns]"
      ]
     },
     "execution_count": 186,
     "metadata": {},
     "output_type": "execute_result"
    }
   ],
   "source": [
    "# Generate random test data\n",
    "np.random.seed(42)  # For reproducibility\n",
    "\n",
    "# Define the number of rows for the test DataFrame\n",
    "num_rows = 100\n",
    "\n",
    "# Generate random dates\n",
    "date_rng = pd.date_range(start='2024-09-27 09:30:00', periods=num_rows, freq='5T')\n",
    "\n",
    "# Generate random data for the DataFrame\n",
    "test_data = {\n",
    "    'date': date_rng,\n",
    "    'symbol': np.random.choice(['AAPL', 'GOOGL', 'MSFT', 'NVDA', 'TSLA'], size=num_rows),\n",
    "    'interval': np.random.choice(['5m','15m','30m'], size=num_rows),\n",
    "    '_id': [f'id_{i}' for i in range(num_rows)],\n",
    "    'datetime': date_rng\n",
    "}\n",
    "\n",
    "# Generate random walk for OHLC data\n",
    "initial_price = 150\n",
    "price_changes = np.random.normal(loc=0, scale=1, size=num_rows)\n",
    "prices = initial_price + np.cumsum(price_changes)\n",
    "\n",
    "test_data['open'] = prices\n",
    "test_data['high'] = prices + np.random.uniform(low=0, high=5, size=num_rows)\n",
    "test_data['low'] = prices - np.random.uniform(low=0, high=5, size=num_rows)\n",
    "test_data['close'] = prices + np.random.uniform(low=-2, high=2, size=num_rows)\n",
    "\n",
    "# Convert to DataFrame and sort\n",
    "test_data = pd.DataFrame(test_data).sort_values(by=['symbol','interval','date'])\n",
    "\n",
    "# Display the test DataFrame\n",
    "test_data"
   ]
  },
  {
   "cell_type": "code",
   "execution_count": 187,
   "metadata": {},
   "outputs": [],
   "source": [
    "import pandas as pd\n",
    "\n",
    "class CandlePattern:\n",
    "    def __init__(self, candle: pd.DataFrame):\n",
    "        self.candle = candle\n",
    "\n",
    "    def hammer_alert(self):\n",
    "        # Hammer candle pattern: small body, long lower shadow, little or no upper shadow\n",
    "        body_size = abs(self.candle['close'] - self.candle['open'])\n",
    "        lower_shadow = self.candle['low'] - min(self.candle['open'], self.candle['close'])\n",
    "        upper_shadow = max(self.candle['open'], self.candle['close']) - self.candle['high']\n",
    "        \n",
    "        is_hammer = (\n",
    "            (body_size <= (self.candle['high'] - self.candle['low']) * 0.3) &  # Small body\n",
    "            (lower_shadow >= (self.candle['high'] - self.candle['low']) * 0.5) &  # Long lower shadow\n",
    "            (upper_shadow <= (self.candle['high'] - self.candle['low']) * 0.1)  # Little or no upper shadow\n",
    "        )\n",
    "        \n",
    "        date = pd.to_datetime(self.candle['datetime']).strftime('%Y-%m-%d %H:%M:%S')\n",
    "        return is_hammer, date\n",
    "\n",
    "    def engulf_alert(self, prev_candle: pd.DataFrame, current_candle: pd.DataFrame):\n",
    "        # Previous Candle\n",
    "        prev_open = prev_candle['open']\n",
    "        prev_close = prev_candle['close']\n",
    "\n",
    "        # Current Candle\n",
    "        current_open = current_candle['open']\n",
    "        current_close = current_candle['close']\n",
    "\n",
    "        # Bullish Engulfing: current green candle engulfs previous red candle\n",
    "        bullish_engulfing_prev_red = (\n",
    "            (prev_close < prev_open) &  # Previous candle was red\n",
    "            (current_close > current_open) &  # Current candle is green\n",
    "            (current_open < prev_close) & \n",
    "            (current_close > prev_open) &\n",
    "            ((current_close - current_open) > (prev_open - prev_close) * 1.5)  # Current candle significantly larger\n",
    "        )\n",
    "\n",
    "        # Bullish Engulfing: current green candle engulfs previous green candle\n",
    "        bullish_engulfing_prev_green = (\n",
    "            (prev_close > prev_open) &  # Previous candle was green\n",
    "            (current_close > current_open) &  # Current candle is green\n",
    "            (current_open < prev_close) & \n",
    "            (current_close > prev_open) &\n",
    "            ((current_close - current_open) > (prev_close - prev_open) * 1.5)  # Current candle significantly larger\n",
    "        )\n",
    "        if any([bullish_engulfing_prev_red, bullish_engulfing_prev_green]):\n",
    "            bullish_engulfing = True\n",
    "        else:\n",
    "            bullish_engulfing = False\n",
    "            \n",
    "        # Bearish Engulfing: current red candle engulfs previous green candle\n",
    "        bearish_engulfing = (\n",
    "            (prev_close > prev_open) &  # Previous candle was green\n",
    "            (current_close < current_open) &  # Current candle is red\n",
    "            (current_open > prev_close) & \n",
    "            (current_close < prev_open)\n",
    "        )\n",
    "        date = pd.to_datetime(current_candle['datetime']).strftime('%Y-%m-%d %H:%M:%S')\n",
    "        \n",
    "        return bullish_engulfing, bearish_engulfing, date"
   ]
  },
  {
   "cell_type": "code",
   "execution_count": 188,
   "metadata": {},
   "outputs": [
    {
     "name": "stdout",
     "output_type": "stream",
     "text": [
      "symbol: AAPL comparing 2024-09-27 11:25:00 and 2024-09-27 16:35:00 | Processed Index: 0 | Interval: 15m\n",
      "pointer a: 0 | pointer b: 1\n",
      "symbol: AAPL comparing 2024-09-27 11:25:00 and 2024-09-27 16:35:00 | Processed Index: 1 | Interval: 15m\n",
      "pointer a: 0 | pointer b: 1\n",
      "symbol: AAPL comparing 2024-09-27 16:35:00 and 2024-09-27 17:05:00 | Processed Index: 2 | Interval: 15m\n",
      "pointer a: 1 | pointer b: 2\n",
      "symbol: AAPL comparing 2024-09-27 17:05:00 and 2024-09-27 11:30:00 | Processed Index: 3 | Interval: 15m\n",
      "pointer a: 2 | pointer b: 3\n",
      "symbol: AAPL comparing 2024-09-27 11:30:00 and 2024-09-27 12:15:00 | Processed Index: 4 | Interval: 15m\n",
      "pointer a: 3 | pointer b: 4\n",
      "symbol: AAPL comparing 2024-09-27 12:15:00 and 2024-09-27 15:50:00 | Processed Index: 5 | Interval: 15m\n",
      "pointer a: 4 | pointer b: 5\n",
      "symbol: AAPL comparing 2024-09-27 15:50:00 and 2024-09-27 16:15:00 | Processed Index: 6 | Interval: 15m\n",
      "pointer a: 5 | pointer b: 6\n",
      "symbol: AAPL comparing 2024-09-27 16:15:00 and 2024-09-27 16:30:00 | Processed Index: 7 | Interval: 15m\n",
      "pointer a: 6 | pointer b: 7\n",
      "symbol: AAPL comparing 2024-09-27 16:30:00 and 2024-09-27 17:20:00 | Processed Index: 8 | Interval: 15m\n",
      "pointer a: 7 | pointer b: 8\n",
      "symbol: AAPL comparing 2024-09-27 17:20:00 and 2024-09-27 17:45:00 | Processed Index: 9 | Interval: 15m\n",
      "pointer a: 8 | pointer b: 9\n",
      "symbol: AAPL comparing 2024-09-27 17:45:00 and 2024-09-27 11:00:00 | Processed Index: 10 | Interval: 15m\n",
      "pointer a: 9 | pointer b: 10\n",
      "symbol: AAPL comparing 2024-09-27 11:00:00 and 2024-09-27 12:40:00 | Processed Index: 11 | Interval: 15m\n",
      "pointer a: 10 | pointer b: 11\n",
      "symbol: AAPL comparing 2024-09-27 12:40:00 and 2024-09-27 12:55:00 | Processed Index: 12 | Interval: 15m\n",
      "pointer a: 11 | pointer b: 12\n",
      "symbol: AAPL comparing 2024-09-27 12:55:00 and 2024-09-27 13:15:00 | Processed Index: 13 | Interval: 15m\n",
      "pointer a: 12 | pointer b: 13\n",
      "symbol: AAPL comparing 2024-09-27 13:15:00 and 2024-09-27 14:05:00 | Processed Index: 14 | Interval: 15m\n",
      "pointer a: 13 | pointer b: 14\n",
      "symbol: AAPL comparing 2024-09-27 14:05:00 and 2024-09-27 15:20:00 | Processed Index: 15 | Interval: 15m\n",
      "pointer a: 14 | pointer b: 15\n",
      "symbol: AAPL comparing 2024-09-27 15:20:00 and 2024-09-27 16:40:00 | Processed Index: 16 | Interval: 15m\n",
      "pointer a: 15 | pointer b: 16\n",
      "symbol: GOOGL comparing 2024-09-27 13:10:00 and 2024-09-27 15:00:00 | Processed Index: 0 | Interval: 15m\n",
      "pointer a: 16 | pointer b: 17\n",
      "symbol: GOOGL comparing 2024-09-27 11:10:00 and 2024-09-27 14:15:00 | Processed Index: 1 | Interval: 15m\n",
      "pointer a: 0 | pointer b: 1\n",
      "symbol: GOOGL comparing 2024-09-27 14:15:00 and 2024-09-27 14:30:00 | Processed Index: 2 | Interval: 15m\n",
      "pointer a: 1 | pointer b: 2\n",
      "symbol: GOOGL comparing 2024-09-27 14:30:00 and 2024-09-27 14:50:00 | Processed Index: 3 | Interval: 15m\n",
      "pointer a: 2 | pointer b: 3\n",
      "symbol: MSFT comparing 2024-09-27 17:00:00 and 2024-09-27 17:15:00 | Processed Index: 0 | Interval: 15m\n",
      "pointer a: 3 | pointer b: 4\n",
      "symbol: MSFT comparing 2024-09-27 09:40:00 and 2024-09-27 10:00:00 | Processed Index: 1 | Interval: 15m\n",
      "pointer a: 0 | pointer b: 1\n",
      "symbol: MSFT comparing 2024-09-27 10:00:00 and 2024-09-27 12:00:00 | Processed Index: 2 | Interval: 15m\n",
      "pointer a: 1 | pointer b: 2\n",
      "symbol: MSFT comparing 2024-09-27 12:00:00 and 2024-09-27 17:00:00 | Processed Index: 3 | Interval: 15m\n",
      "pointer a: 2 | pointer b: 3\n",
      "symbol: MSFT comparing 2024-09-27 17:00:00 and 2024-09-27 17:15:00 | Processed Index: 4 | Interval: 15m\n",
      "pointer a: 3 | pointer b: 4\n",
      "symbol: MSFT comparing 2024-09-27 17:15:00 and 2024-09-27 10:10:00 | Processed Index: 5 | Interval: 15m\n",
      "pointer a: 4 | pointer b: 5\n",
      "symbol: MSFT comparing 2024-09-27 10:10:00 and 2024-09-27 10:25:00 | Processed Index: 6 | Interval: 15m\n",
      "pointer a: 5 | pointer b: 6\n",
      "symbol: MSFT comparing 2024-09-27 10:25:00 and 2024-09-27 11:35:00 | Processed Index: 7 | Interval: 15m\n",
      "pointer a: 6 | pointer b: 7\n",
      "symbol: MSFT comparing 2024-09-27 11:35:00 and 2024-09-27 12:20:00 | Processed Index: 8 | Interval: 15m\n",
      "pointer a: 7 | pointer b: 8\n",
      "symbol: MSFT comparing 2024-09-27 12:20:00 and 2024-09-27 17:10:00 | Processed Index: 9 | Interval: 15m\n",
      "pointer a: 8 | pointer b: 9\n",
      "symbol: MSFT comparing 2024-09-27 17:10:00 and 2024-09-27 10:05:00 | Processed Index: 10 | Interval: 15m\n",
      "pointer a: 9 | pointer b: 10\n",
      "symbol: MSFT comparing 2024-09-27 10:05:00 and 2024-09-27 11:40:00 | Processed Index: 11 | Interval: 15m\n",
      "pointer a: 10 | pointer b: 11\n",
      "symbol: NVDA comparing 2024-09-27 10:20:00 and 2024-09-27 11:20:00 | Processed Index: 0 | Interval: 15m\n",
      "pointer a: 11 | pointer b: 12\n",
      "symbol: NVDA comparing 2024-09-27 10:50:00 and 2024-09-27 11:55:00 | Processed Index: 1 | Interval: 15m\n",
      "pointer a: 0 | pointer b: 1\n",
      "symbol: NVDA comparing 2024-09-27 11:55:00 and 2024-09-27 13:35:00 | Processed Index: 2 | Interval: 15m\n",
      "pointer a: 1 | pointer b: 2\n",
      "symbol: NVDA comparing 2024-09-27 13:35:00 and 2024-09-27 13:40:00 | Processed Index: 3 | Interval: 15m\n",
      "pointer a: 2 | pointer b: 3\n",
      "symbol: NVDA comparing 2024-09-27 13:40:00 and 2024-09-27 13:45:00 | Processed Index: 4 | Interval: 15m\n",
      "pointer a: 3 | pointer b: 4\n",
      "symbol: NVDA comparing 2024-09-27 13:45:00 and 2024-09-27 14:10:00 | Processed Index: 5 | Interval: 15m\n",
      "pointer a: 4 | pointer b: 5\n",
      "symbol: NVDA comparing 2024-09-27 14:10:00 and 2024-09-27 14:20:00 | Processed Index: 6 | Interval: 15m\n",
      "pointer a: 5 | pointer b: 6\n",
      "symbol: NVDA comparing 2024-09-27 14:20:00 and 2024-09-27 15:15:00 | Processed Index: 7 | Interval: 15m\n",
      "pointer a: 6 | pointer b: 7\n",
      "symbol: NVDA comparing 2024-09-27 15:15:00 and 2024-09-27 16:00:00 | Processed Index: 8 | Interval: 15m\n",
      "pointer a: 7 | pointer b: 8\n",
      "symbol: NVDA comparing 2024-09-27 16:00:00 and 2024-09-27 16:50:00 | Processed Index: 9 | Interval: 15m\n",
      "pointer a: 8 | pointer b: 9\n",
      "symbol: NVDA comparing 2024-09-27 16:50:00 and 2024-09-27 09:30:00 | Processed Index: 10 | Interval: 15m\n",
      "pointer a: 9 | pointer b: 10\n",
      "symbol: NVDA comparing 2024-09-27 09:30:00 and 2024-09-27 10:20:00 | Processed Index: 11 | Interval: 15m\n",
      "pointer a: 10 | pointer b: 11\n",
      "symbol: NVDA comparing 2024-09-27 10:20:00 and 2024-09-27 11:20:00 | Processed Index: 12 | Interval: 15m\n",
      "pointer a: 11 | pointer b: 12\n",
      "symbol: NVDA comparing 2024-09-27 11:20:00 and 2024-09-27 11:50:00 | Processed Index: 13 | Interval: 15m\n",
      "pointer a: 12 | pointer b: 13\n",
      "symbol: TSLA comparing 2024-09-27 12:25:00 and 2024-09-27 14:40:00 | Processed Index: 0 | Interval: 15m\n",
      "pointer a: 13 | pointer b: 14\n",
      "symbol: TSLA comparing 2024-09-27 10:15:00 and 2024-09-27 12:35:00 | Processed Index: 1 | Interval: 15m\n",
      "pointer a: 0 | pointer b: 1\n",
      "symbol: TSLA comparing 2024-09-27 12:35:00 and 2024-09-27 13:55:00 | Processed Index: 2 | Interval: 15m\n",
      "pointer a: 1 | pointer b: 2\n",
      "symbol: TSLA comparing 2024-09-27 13:55:00 and 2024-09-27 16:20:00 | Processed Index: 3 | Interval: 15m\n",
      "pointer a: 2 | pointer b: 3\n",
      "symbol: TSLA comparing 2024-09-27 16:20:00 and 2024-09-27 09:50:00 | Processed Index: 4 | Interval: 15m\n",
      "pointer a: 3 | pointer b: 4\n",
      "symbol: AAPL comparing 2024-09-27 11:25:00 and 2024-09-27 16:35:00 | Processed Index: 0 | Interval: 30m\n",
      "pointer a: 0 | pointer b: 1\n",
      "symbol: AAPL comparing 2024-09-27 11:25:00 and 2024-09-27 16:35:00 | Processed Index: 1 | Interval: 30m\n",
      "pointer a: 0 | pointer b: 1\n",
      "symbol: AAPL comparing 2024-09-27 16:35:00 and 2024-09-27 17:05:00 | Processed Index: 2 | Interval: 30m\n",
      "pointer a: 1 | pointer b: 2\n",
      "symbol: AAPL comparing 2024-09-27 17:05:00 and 2024-09-27 11:30:00 | Processed Index: 3 | Interval: 30m\n",
      "pointer a: 2 | pointer b: 3\n",
      "symbol: AAPL comparing 2024-09-27 11:30:00 and 2024-09-27 12:15:00 | Processed Index: 4 | Interval: 30m\n",
      "pointer a: 3 | pointer b: 4\n",
      "symbol: AAPL comparing 2024-09-27 12:15:00 and 2024-09-27 15:50:00 | Processed Index: 5 | Interval: 30m\n",
      "pointer a: 4 | pointer b: 5\n",
      "symbol: AAPL comparing 2024-09-27 15:50:00 and 2024-09-27 16:15:00 | Processed Index: 6 | Interval: 30m\n",
      "pointer a: 5 | pointer b: 6\n",
      "symbol: AAPL comparing 2024-09-27 16:15:00 and 2024-09-27 16:30:00 | Processed Index: 7 | Interval: 30m\n",
      "pointer a: 6 | pointer b: 7\n",
      "symbol: AAPL comparing 2024-09-27 16:30:00 and 2024-09-27 17:20:00 | Processed Index: 8 | Interval: 30m\n",
      "pointer a: 7 | pointer b: 8\n",
      "symbol: AAPL comparing 2024-09-27 17:20:00 and 2024-09-27 17:45:00 | Processed Index: 9 | Interval: 30m\n",
      "pointer a: 8 | pointer b: 9\n",
      "symbol: AAPL comparing 2024-09-27 17:45:00 and 2024-09-27 11:00:00 | Processed Index: 10 | Interval: 30m\n",
      "pointer a: 9 | pointer b: 10\n",
      "symbol: AAPL comparing 2024-09-27 11:00:00 and 2024-09-27 12:40:00 | Processed Index: 11 | Interval: 30m\n",
      "pointer a: 10 | pointer b: 11\n",
      "symbol: AAPL comparing 2024-09-27 12:40:00 and 2024-09-27 12:55:00 | Processed Index: 12 | Interval: 30m\n",
      "pointer a: 11 | pointer b: 12\n",
      "symbol: AAPL comparing 2024-09-27 12:55:00 and 2024-09-27 13:15:00 | Processed Index: 13 | Interval: 30m\n",
      "pointer a: 12 | pointer b: 13\n",
      "symbol: AAPL comparing 2024-09-27 13:15:00 and 2024-09-27 14:05:00 | Processed Index: 14 | Interval: 30m\n",
      "pointer a: 13 | pointer b: 14\n",
      "symbol: AAPL comparing 2024-09-27 14:05:00 and 2024-09-27 15:20:00 | Processed Index: 15 | Interval: 30m\n",
      "pointer a: 14 | pointer b: 15\n",
      "symbol: AAPL comparing 2024-09-27 15:20:00 and 2024-09-27 16:40:00 | Processed Index: 16 | Interval: 30m\n",
      "pointer a: 15 | pointer b: 16\n",
      "symbol: AAPL comparing 2024-09-27 16:40:00 and 2024-09-27 16:45:00 | Processed Index: 17 | Interval: 30m\n",
      "pointer a: 16 | pointer b: 17\n",
      "symbol: GOOGL comparing 2024-09-27 15:00:00 and 2024-09-27 15:05:00 | Processed Index: 4 | Interval: 30m\n",
      "pointer a: 17 | pointer b: 18\n",
      "symbol: GOOGL comparing 2024-09-27 15:05:00 and 2024-09-27 17:35:00 | Processed Index: 5 | Interval: 30m\n",
      "pointer a: 18 | pointer b: 19\n",
      "symbol: GOOGL comparing 2024-09-27 17:35:00 and 2024-09-27 17:40:00 | Processed Index: 6 | Interval: 30m\n",
      "pointer a: 19 | pointer b: 20\n",
      "symbol: GOOGL comparing 2024-09-27 17:40:00 and 2024-09-27 11:10:00 | Processed Index: 7 | Interval: 30m\n",
      "pointer a: 20 | pointer b: 21\n",
      "symbol: GOOGL comparing 2024-09-27 11:10:00 and 2024-09-27 14:15:00 | Processed Index: 8 | Interval: 30m\n",
      "pointer a: 21 | pointer b: 22\n",
      "symbol: GOOGL comparing 2024-09-27 14:15:00 and 2024-09-27 14:30:00 | Processed Index: 9 | Interval: 30m\n",
      "pointer a: 22 | pointer b: 23\n",
      "symbol: GOOGL comparing 2024-09-27 14:30:00 and 2024-09-27 14:50:00 | Processed Index: 10 | Interval: 30m\n",
      "pointer a: 23 | pointer b: 24\n",
      "symbol: GOOGL comparing 2024-09-27 14:50:00 and 2024-09-27 15:45:00 | Processed Index: 11 | Interval: 30m\n",
      "pointer a: 24 | pointer b: 25\n",
      "symbol: GOOGL comparing 2024-09-27 15:45:00 and 2024-09-27 09:55:00 | Processed Index: 12 | Interval: 30m\n",
      "pointer a: 25 | pointer b: 26\n",
      "symbol: GOOGL comparing 2024-09-27 09:55:00 and 2024-09-27 10:35:00 | Processed Index: 13 | Interval: 30m\n",
      "pointer a: 26 | pointer b: 27\n",
      "symbol: GOOGL comparing 2024-09-27 10:35:00 and 2024-09-27 10:45:00 | Processed Index: 14 | Interval: 30m\n",
      "pointer a: 27 | pointer b: 28\n",
      "symbol: GOOGL comparing 2024-09-27 10:45:00 and 2024-09-27 11:45:00 | Processed Index: 15 | Interval: 30m\n",
      "pointer a: 28 | pointer b: 29\n",
      "symbol: GOOGL comparing 2024-09-27 11:45:00 and 2024-09-27 12:45:00 | Processed Index: 16 | Interval: 30m\n",
      "pointer a: 29 | pointer b: 30\n",
      "symbol: GOOGL comparing 2024-09-27 12:45:00 and 2024-09-27 13:05:00 | Processed Index: 17 | Interval: 30m\n",
      "pointer a: 30 | pointer b: 31\n",
      "symbol: GOOGL comparing 2024-09-27 13:05:00 and 2024-09-27 13:20:00 | Processed Index: 18 | Interval: 30m\n",
      "pointer a: 31 | pointer b: 32\n",
      "symbol: GOOGL comparing 2024-09-27 13:20:00 and 2024-09-27 13:30:00 | Processed Index: 19 | Interval: 30m\n",
      "pointer a: 32 | pointer b: 33\n",
      "symbol: GOOGL comparing 2024-09-27 13:30:00 and 2024-09-27 14:25:00 | Processed Index: 20 | Interval: 30m\n",
      "pointer a: 33 | pointer b: 34\n",
      "symbol: GOOGL comparing 2024-09-27 14:25:00 and 2024-09-27 14:45:00 | Processed Index: 21 | Interval: 30m\n",
      "pointer a: 34 | pointer b: 35\n",
      "symbol: GOOGL comparing 2024-09-27 14:45:00 and 2024-09-27 15:35:00 | Processed Index: 22 | Interval: 30m\n",
      "pointer a: 35 | pointer b: 36\n",
      "symbol: GOOGL comparing 2024-09-27 15:35:00 and 2024-09-27 13:10:00 | Processed Index: 23 | Interval: 30m\n",
      "pointer a: 36 | pointer b: 37\n",
      "symbol: GOOGL comparing 2024-09-27 13:10:00 and 2024-09-27 15:00:00 | Processed Index: 24 | Interval: 30m\n",
      "pointer a: 37 | pointer b: 38\n",
      "symbol: NVDA comparing 2024-09-27 11:20:00 and 2024-09-27 11:50:00 | Processed Index: 14 | Interval: 30m\n",
      "pointer a: 38 | pointer b: 39\n",
      "symbol: NVDA comparing 2024-09-27 11:50:00 and 2024-09-27 12:10:00 | Processed Index: 15 | Interval: 30m\n",
      "pointer a: 39 | pointer b: 40\n",
      "symbol: NVDA comparing 2024-09-27 12:10:00 and 2024-09-27 12:50:00 | Processed Index: 16 | Interval: 30m\n",
      "pointer a: 40 | pointer b: 41\n",
      "symbol: NVDA comparing 2024-09-27 12:50:00 and 2024-09-27 13:00:00 | Processed Index: 17 | Interval: 30m\n",
      "pointer a: 41 | pointer b: 42\n",
      "symbol: NVDA comparing 2024-09-27 13:00:00 and 2024-09-27 14:35:00 | Processed Index: 18 | Interval: 30m\n",
      "pointer a: 42 | pointer b: 43\n",
      "symbol: NVDA comparing 2024-09-27 14:35:00 and 2024-09-27 15:10:00 | Processed Index: 19 | Interval: 30m\n",
      "pointer a: 43 | pointer b: 44\n",
      "symbol: NVDA comparing 2024-09-27 15:10:00 and 2024-09-27 10:40:00 | Processed Index: 20 | Interval: 30m\n",
      "pointer a: 44 | pointer b: 45\n",
      "symbol: NVDA comparing 2024-09-27 10:40:00 and 2024-09-27 11:05:00 | Processed Index: 21 | Interval: 30m\n",
      "pointer a: 45 | pointer b: 46\n",
      "symbol: NVDA comparing 2024-09-27 11:05:00 and 2024-09-27 12:05:00 | Processed Index: 22 | Interval: 30m\n",
      "pointer a: 46 | pointer b: 47\n",
      "symbol: NVDA comparing 2024-09-27 12:05:00 and 2024-09-27 13:50:00 | Processed Index: 23 | Interval: 30m\n",
      "pointer a: 47 | pointer b: 48\n",
      "symbol: NVDA comparing 2024-09-27 13:50:00 and 2024-09-27 14:55:00 | Processed Index: 24 | Interval: 30m\n",
      "pointer a: 48 | pointer b: 49\n",
      "symbol: NVDA comparing 2024-09-27 14:55:00 and 2024-09-27 15:55:00 | Processed Index: 25 | Interval: 30m\n",
      "pointer a: 49 | pointer b: 50\n",
      "symbol: NVDA comparing 2024-09-27 15:55:00 and 2024-09-27 16:05:00 | Processed Index: 26 | Interval: 30m\n",
      "pointer a: 50 | pointer b: 51\n",
      "symbol: AAPL comparing 2024-09-27 11:25:00 and 2024-09-27 16:35:00 | Processed Index: 0 | Interval: 5m\n",
      "pointer a: 0 | pointer b: 1\n",
      "symbol: AAPL comparing 2024-09-27 11:25:00 and 2024-09-27 16:35:00 | Processed Index: 1 | Interval: 5m\n",
      "pointer a: 0 | pointer b: 1\n",
      "symbol: AAPL comparing 2024-09-27 16:35:00 and 2024-09-27 17:05:00 | Processed Index: 2 | Interval: 5m\n",
      "pointer a: 1 | pointer b: 2\n",
      "symbol: AAPL comparing 2024-09-27 17:05:00 and 2024-09-27 11:30:00 | Processed Index: 3 | Interval: 5m\n",
      "pointer a: 2 | pointer b: 3\n",
      "symbol: AAPL comparing 2024-09-27 11:30:00 and 2024-09-27 12:15:00 | Processed Index: 4 | Interval: 5m\n",
      "pointer a: 3 | pointer b: 4\n",
      "symbol: AAPL comparing 2024-09-27 12:15:00 and 2024-09-27 15:50:00 | Processed Index: 5 | Interval: 5m\n",
      "pointer a: 4 | pointer b: 5\n",
      "symbol: AAPL comparing 2024-09-27 15:50:00 and 2024-09-27 16:15:00 | Processed Index: 6 | Interval: 5m\n",
      "pointer a: 5 | pointer b: 6\n",
      "symbol: AAPL comparing 2024-09-27 16:15:00 and 2024-09-27 16:30:00 | Processed Index: 7 | Interval: 5m\n",
      "pointer a: 6 | pointer b: 7\n",
      "symbol: AAPL comparing 2024-09-27 16:30:00 and 2024-09-27 17:20:00 | Processed Index: 8 | Interval: 5m\n",
      "pointer a: 7 | pointer b: 8\n",
      "symbol: AAPL comparing 2024-09-27 17:20:00 and 2024-09-27 17:45:00 | Processed Index: 9 | Interval: 5m\n",
      "pointer a: 8 | pointer b: 9\n",
      "symbol: AAPL comparing 2024-09-27 17:45:00 and 2024-09-27 11:00:00 | Processed Index: 10 | Interval: 5m\n",
      "pointer a: 9 | pointer b: 10\n",
      "symbol: AAPL comparing 2024-09-27 11:00:00 and 2024-09-27 12:40:00 | Processed Index: 11 | Interval: 5m\n",
      "pointer a: 10 | pointer b: 11\n",
      "symbol: AAPL comparing 2024-09-27 12:40:00 and 2024-09-27 12:55:00 | Processed Index: 12 | Interval: 5m\n",
      "pointer a: 11 | pointer b: 12\n",
      "symbol: AAPL comparing 2024-09-27 12:55:00 and 2024-09-27 13:15:00 | Processed Index: 13 | Interval: 5m\n",
      "pointer a: 12 | pointer b: 13\n",
      "symbol: AAPL comparing 2024-09-27 13:15:00 and 2024-09-27 14:05:00 | Processed Index: 14 | Interval: 5m\n",
      "pointer a: 13 | pointer b: 14\n",
      "symbol: AAPL comparing 2024-09-27 14:05:00 and 2024-09-27 15:20:00 | Processed Index: 15 | Interval: 5m\n",
      "pointer a: 14 | pointer b: 15\n",
      "symbol: AAPL comparing 2024-09-27 15:20:00 and 2024-09-27 16:40:00 | Processed Index: 16 | Interval: 5m\n",
      "pointer a: 15 | pointer b: 16\n",
      "symbol: AAPL comparing 2024-09-27 16:40:00 and 2024-09-27 16:45:00 | Processed Index: 17 | Interval: 5m\n",
      "pointer a: 16 | pointer b: 17\n",
      "symbol: GOOGL comparing 2024-09-27 15:00:00 and 2024-09-27 15:05:00 | Processed Index: 25 | Interval: 5m\n",
      "pointer a: 17 | pointer b: 18\n",
      "symbol: GOOGL comparing 2024-09-27 15:05:00 and 2024-09-27 17:35:00 | Processed Index: 26 | Interval: 5m\n",
      "pointer a: 18 | pointer b: 19\n",
      "symbol: GOOGL comparing 2024-09-27 17:35:00 and 2024-09-27 17:40:00 | Processed Index: 27 | Interval: 5m\n",
      "pointer a: 19 | pointer b: 20\n",
      "symbol: GOOGL comparing 2024-09-27 17:40:00 and 2024-09-27 11:10:00 | Processed Index: 28 | Interval: 5m\n",
      "pointer a: 20 | pointer b: 21\n",
      "symbol: GOOGL comparing 2024-09-27 11:10:00 and 2024-09-27 14:15:00 | Processed Index: 29 | Interval: 5m\n",
      "pointer a: 21 | pointer b: 22\n",
      "symbol: GOOGL comparing 2024-09-27 14:15:00 and 2024-09-27 14:30:00 | Processed Index: 30 | Interval: 5m\n",
      "pointer a: 22 | pointer b: 23\n",
      "symbol: GOOGL comparing 2024-09-27 14:30:00 and 2024-09-27 14:50:00 | Processed Index: 31 | Interval: 5m\n",
      "pointer a: 23 | pointer b: 24\n",
      "symbol: GOOGL comparing 2024-09-27 14:50:00 and 2024-09-27 15:45:00 | Processed Index: 32 | Interval: 5m\n",
      "pointer a: 24 | pointer b: 25\n",
      "symbol: GOOGL comparing 2024-09-27 15:45:00 and 2024-09-27 09:55:00 | Processed Index: 33 | Interval: 5m\n",
      "pointer a: 25 | pointer b: 26\n",
      "symbol: GOOGL comparing 2024-09-27 09:55:00 and 2024-09-27 10:35:00 | Processed Index: 34 | Interval: 5m\n",
      "pointer a: 26 | pointer b: 27\n",
      "symbol: GOOGL comparing 2024-09-27 10:35:00 and 2024-09-27 10:45:00 | Processed Index: 35 | Interval: 5m\n",
      "pointer a: 27 | pointer b: 28\n",
      "symbol: GOOGL comparing 2024-09-27 10:45:00 and 2024-09-27 11:45:00 | Processed Index: 36 | Interval: 5m\n",
      "pointer a: 28 | pointer b: 29\n",
      "symbol: GOOGL comparing 2024-09-27 11:45:00 and 2024-09-27 12:45:00 | Processed Index: 37 | Interval: 5m\n",
      "pointer a: 29 | pointer b: 30\n",
      "symbol: GOOGL comparing 2024-09-27 12:45:00 and 2024-09-27 13:05:00 | Processed Index: 38 | Interval: 5m\n",
      "pointer a: 30 | pointer b: 31\n",
      "symbol: GOOGL comparing 2024-09-27 13:05:00 and 2024-09-27 13:20:00 | Processed Index: 39 | Interval: 5m\n",
      "pointer a: 31 | pointer b: 32\n",
      "symbol: GOOGL comparing 2024-09-27 13:20:00 and 2024-09-27 13:30:00 | Processed Index: 40 | Interval: 5m\n",
      "pointer a: 32 | pointer b: 33\n",
      "symbol: GOOGL comparing 2024-09-27 13:30:00 and 2024-09-27 14:25:00 | Processed Index: 41 | Interval: 5m\n",
      "pointer a: 33 | pointer b: 34\n",
      "symbol: GOOGL comparing 2024-09-27 14:25:00 and 2024-09-27 14:45:00 | Processed Index: 42 | Interval: 5m\n",
      "pointer a: 34 | pointer b: 35\n",
      "symbol: GOOGL comparing 2024-09-27 14:45:00 and 2024-09-27 15:35:00 | Processed Index: 43 | Interval: 5m\n",
      "pointer a: 35 | pointer b: 36\n",
      "symbol: GOOGL comparing 2024-09-27 15:35:00 and 2024-09-27 13:10:00 | Processed Index: 44 | Interval: 5m\n",
      "pointer a: 36 | pointer b: 37\n",
      "symbol: GOOGL comparing 2024-09-27 13:10:00 and 2024-09-27 15:00:00 | Processed Index: 45 | Interval: 5m\n",
      "pointer a: 37 | pointer b: 38\n",
      "symbol: MSFT comparing 2024-09-27 10:25:00 and 2024-09-27 11:35:00 | Processed Index: 12 | Interval: 5m\n",
      "pointer a: 38 | pointer b: 39\n",
      "symbol: MSFT comparing 2024-09-27 11:35:00 and 2024-09-27 12:20:00 | Processed Index: 13 | Interval: 5m\n",
      "pointer a: 39 | pointer b: 40\n",
      "symbol: MSFT comparing 2024-09-27 12:20:00 and 2024-09-27 17:10:00 | Processed Index: 14 | Interval: 5m\n",
      "pointer a: 40 | pointer b: 41\n",
      "symbol: MSFT comparing 2024-09-27 17:10:00 and 2024-09-27 10:05:00 | Processed Index: 15 | Interval: 5m\n",
      "pointer a: 41 | pointer b: 42\n",
      "symbol: MSFT comparing 2024-09-27 10:05:00 and 2024-09-27 11:40:00 | Processed Index: 16 | Interval: 5m\n",
      "pointer a: 42 | pointer b: 43\n",
      "symbol: MSFT comparing 2024-09-27 11:40:00 and 2024-09-27 12:30:00 | Processed Index: 17 | Interval: 5m\n",
      "pointer a: 43 | pointer b: 44\n",
      "symbol: MSFT comparing 2024-09-27 12:30:00 and 2024-09-27 14:00:00 | Processed Index: 18 | Interval: 5m\n",
      "pointer a: 44 | pointer b: 45\n",
      "symbol: MSFT comparing 2024-09-27 14:00:00 and 2024-09-27 16:55:00 | Processed Index: 19 | Interval: 5m\n",
      "pointer a: 45 | pointer b: 46\n",
      "symbol: MSFT comparing 2024-09-27 16:55:00 and 2024-09-27 17:25:00 | Processed Index: 20 | Interval: 5m\n",
      "pointer a: 46 | pointer b: 47\n",
      "symbol: NVDA comparing 2024-09-27 12:05:00 and 2024-09-27 13:50:00 | Processed Index: 27 | Interval: 5m\n",
      "pointer a: 47 | pointer b: 48\n",
      "symbol: NVDA comparing 2024-09-27 13:50:00 and 2024-09-27 14:55:00 | Processed Index: 28 | Interval: 5m\n",
      "pointer a: 48 | pointer b: 49\n",
      "symbol: NVDA comparing 2024-09-27 14:55:00 and 2024-09-27 15:55:00 | Processed Index: 29 | Interval: 5m\n",
      "pointer a: 49 | pointer b: 50\n",
      "symbol: NVDA comparing 2024-09-27 15:55:00 and 2024-09-27 16:05:00 | Processed Index: 30 | Interval: 5m\n",
      "pointer a: 50 | pointer b: 51\n",
      "symbol: NVDA comparing 2024-09-27 16:05:00 and 2024-09-27 10:50:00 | Processed Index: 31 | Interval: 5m\n",
      "pointer a: 51 | pointer b: 52\n",
      "symbol: NVDA comparing 2024-09-27 10:50:00 and 2024-09-27 11:55:00 | Processed Index: 32 | Interval: 5m\n",
      "pointer a: 52 | pointer b: 53\n",
      "symbol: NVDA comparing 2024-09-27 11:55:00 and 2024-09-27 13:35:00 | Processed Index: 33 | Interval: 5m\n",
      "pointer a: 53 | pointer b: 54\n",
      "symbol: NVDA comparing 2024-09-27 13:35:00 and 2024-09-27 13:40:00 | Processed Index: 34 | Interval: 5m\n",
      "pointer a: 54 | pointer b: 55\n",
      "symbol: NVDA comparing 2024-09-27 13:40:00 and 2024-09-27 13:45:00 | Processed Index: 35 | Interval: 5m\n",
      "pointer a: 55 | pointer b: 56\n",
      "symbol: NVDA comparing 2024-09-27 13:45:00 and 2024-09-27 14:10:00 | Processed Index: 36 | Interval: 5m\n",
      "pointer a: 56 | pointer b: 57\n",
      "symbol: NVDA comparing 2024-09-27 14:10:00 and 2024-09-27 14:20:00 | Processed Index: 37 | Interval: 5m\n",
      "pointer a: 57 | pointer b: 58\n",
      "symbol: NVDA comparing 2024-09-27 14:20:00 and 2024-09-27 15:15:00 | Processed Index: 38 | Interval: 5m\n",
      "pointer a: 58 | pointer b: 59\n",
      "symbol: NVDA comparing 2024-09-27 15:15:00 and 2024-09-27 16:00:00 | Processed Index: 39 | Interval: 5m\n",
      "pointer a: 59 | pointer b: 60\n",
      "symbol: NVDA comparing 2024-09-27 16:00:00 and 2024-09-27 16:50:00 | Processed Index: 40 | Interval: 5m\n",
      "pointer a: 60 | pointer b: 61\n",
      "symbol: NVDA comparing 2024-09-27 16:50:00 and 2024-09-27 09:30:00 | Processed Index: 41 | Interval: 5m\n",
      "pointer a: 61 | pointer b: 62\n",
      "symbol: NVDA comparing 2024-09-27 09:30:00 and 2024-09-27 10:20:00 | Processed Index: 42 | Interval: 5m\n",
      "pointer a: 62 | pointer b: 63\n",
      "symbol: NVDA comparing 2024-09-27 10:20:00 and 2024-09-27 11:20:00 | Processed Index: 43 | Interval: 5m\n",
      "pointer a: 63 | pointer b: 64\n",
      "symbol: NVDA comparing 2024-09-27 11:20:00 and 2024-09-27 11:50:00 | Processed Index: 44 | Interval: 5m\n",
      "pointer a: 64 | pointer b: 65\n",
      "symbol: NVDA comparing 2024-09-27 11:50:00 and 2024-09-27 12:10:00 | Processed Index: 45 | Interval: 5m\n",
      "pointer a: 65 | pointer b: 66\n",
      "symbol: NVDA comparing 2024-09-27 12:10:00 and 2024-09-27 12:50:00 | Processed Index: 46 | Interval: 5m\n",
      "pointer a: 66 | pointer b: 67\n",
      "symbol: NVDA comparing 2024-09-27 12:50:00 and 2024-09-27 13:00:00 | Processed Index: 47 | Interval: 5m\n",
      "pointer a: 67 | pointer b: 68\n",
      "symbol: NVDA comparing 2024-09-27 13:00:00 and 2024-09-27 14:35:00 | Processed Index: 48 | Interval: 5m\n",
      "pointer a: 68 | pointer b: 69\n",
      "symbol: NVDA comparing 2024-09-27 14:35:00 and 2024-09-27 15:10:00 | Processed Index: 49 | Interval: 5m\n",
      "pointer a: 69 | pointer b: 70\n",
      "symbol: NVDA comparing 2024-09-27 15:10:00 and 2024-09-27 10:40:00 | Processed Index: 50 | Interval: 5m\n",
      "pointer a: 70 | pointer b: 71\n",
      "symbol: NVDA comparing 2024-09-27 10:40:00 and 2024-09-27 11:05:00 | Processed Index: 51 | Interval: 5m\n",
      "pointer a: 71 | pointer b: 72\n",
      "symbol: NVDA comparing 2024-09-27 11:05:00 and 2024-09-27 12:05:00 | Processed Index: 52 | Interval: 5m\n",
      "pointer a: 72 | pointer b: 73\n"
     ]
    }
   ],
   "source": [
    "candle = {}\n",
    "last_processed_index = {}\n",
    "pointer_a = 0\n",
    "pointer_b = 1\n",
    "alert_data = {}\n",
    "\n",
    "def streaming_process(data, interval):\n",
    "    global candle, last_processed_index, pointer_a, pointer_b, alert_data\n",
    "\n",
    "    # Store the processed index in a dict\n",
    "    if data['symbol'] not in last_processed_index:\n",
    "        last_processed_index[data['symbol']] = -1\n",
    "        last_processed_index['interval'] = interval \n",
    "        \n",
    "    if last_processed_index['interval'] != interval:\n",
    "        last_processed_index[data['symbol']] = -1\n",
    "        last_processed_index['interval'] = interval\n",
    "        pointer_a = 0\n",
    "        pointer_b = 1\n",
    "        \n",
    "    if last_processed_index[data['symbol']] == 0:\n",
    "        pointer_a = 0\n",
    "        pointer_b = 1\n",
    "\n",
    "    # Store the candle data in a dict\n",
    "    if data['symbol'] not in candle:\n",
    "        candle[data['symbol']] = []\n",
    "\n",
    "    candle[data['symbol']].append(data)\n",
    "\n",
    "    # Initialize alert_data for the symbol if it does not exist\n",
    "    if data['symbol'] not in alert_data:\n",
    "        alert_data[data['symbol']] = []\n",
    "\n",
    "    # Loop through the candle data from the last processed index\n",
    "    for i in range(last_processed_index[data['symbol']] + 1, len(candle[data['symbol']])):\n",
    "        candle_data = candle[data['symbol']][i]\n",
    "        candle_pattern = CandlePattern(candle_data)\n",
    "\n",
    "        # Check for bullish 0.382 candle patterns\n",
    "        bullish_382, bullish_382_date = candle_pattern.hammer_alert()\n",
    "\n",
    "        # Check for engulfing patterns\n",
    "        if len(candle[data['symbol']]) > 1 and pointer_b < len(candle[data['symbol']]):\n",
    "            \n",
    "            pre_candle = candle[data['symbol']][pointer_a]\n",
    "            curr_candle = candle[data['symbol']][pointer_b]\n",
    "            \n",
    "            bullish_engulfing, bearish_engulfing, date = candle_pattern.engulf_alert(pre_candle, curr_candle)\n",
    "\n",
    "            if bullish_engulfing:\n",
    "                alert_data[data['symbol']].append({'date': date, 'alert': 'bullish_engulfing'})\n",
    "                                \n",
    "            # Update the last processed index\n",
    "            last_processed_index[data['symbol']] = i\n",
    "            print(f\"symbol: {data['symbol']} comparing {pre_candle['datetime']} and {curr_candle['datetime']} | Processed Index: {last_processed_index[data['symbol']]} | Interval: {last_processed_index['interval']}\")\n",
    "            print(f\"pointer a: {pointer_a} | pointer b: {pointer_b}\")\n",
    "            pointer_a += 1\n",
    "            pointer_b += 1\n",
    "            break  # Ensure pointers are incremented only once per comparison\n",
    "            \n",
    "        \n",
    "# Test the function with the generated test data\n",
    "for interval in test_data['interval'].unique():\n",
    "    for index, row in test_data.iterrows():\n",
    "        streaming_process(row, interval)"
   ]
  },
  {
   "cell_type": "code",
   "execution_count": 189,
   "metadata": {},
   "outputs": [
    {
     "data": {
      "text/plain": [
       "{'AAPL': [],\n",
       " 'GOOGL': [],\n",
       " 'MSFT': [{'date': '2024-09-27 12:00:00', 'alert': 'bullish_engulfing'}],\n",
       " 'NVDA': [{'date': '2024-09-27 11:50:00', 'alert': 'bullish_engulfing'},\n",
       "  {'date': '2024-09-27 11:50:00', 'alert': 'bullish_engulfing'},\n",
       "  {'date': '2024-09-27 12:50:00', 'alert': 'bullish_engulfing'},\n",
       "  {'date': '2024-09-27 11:50:00', 'alert': 'bullish_engulfing'},\n",
       "  {'date': '2024-09-27 12:50:00', 'alert': 'bullish_engulfing'}],\n",
       " 'TSLA': []}"
      ]
     },
     "execution_count": 189,
     "metadata": {},
     "output_type": "execute_result"
    }
   ],
   "source": [
    "alert_data"
   ]
  },
  {
   "cell_type": "code",
   "execution_count": 191,
   "metadata": {},
   "outputs": [
    {
     "data": {
      "application/vnd.plotly.v1+json": {
       "config": {
        "plotlyServerURL": "https://plot.ly"
       },
       "data": [
        {
         "close": [
          154.38153612997232,
          153.88505504050192,
          150.91406112911713,
          151.20453040700545,
          153.61723560707023,
          157.08391784559845,
          155.76330715360302,
          159.29368249580332,
          154.63782107027842,
          154.59688185290452,
          151.93744035241744,
          156.41010947934646,
          151.82567773859034,
          152.9314720525022,
          151.8856002707719,
          152.34130212921792,
          151.29404664382636,
          152.32959523193648,
          157.91877763864693,
          154.10291360665204,
          150.852104947696,
          152.07493472633377,
          154.37332626781466,
          157.07017032635517,
          156.16220657339247,
          155.07328965605268
         ],
         "high": [
          155.1620450734718,
          154.20968843351548,
          154.87903657256606,
          155.07702873254067,
          153.3970010495558,
          156.23798139498516,
          158.6420205109484,
          158.83390976229234,
          156.23431670918396,
          159.83385849162516,
          153.57006459622954,
          156.04116980368164,
          151.2914394883544,
          153.8692650560328,
          153.62679659055695,
          151.1743828253136,
          153.66365710594843,
          154.3021283745855,
          162.64001552418665,
          159.1063916780258,
          153.6202715373203,
          152.5262179490907,
          154.90158562455065,
          158.5526258349216,
          159.76037149957443,
          159.88703685716663
         ],
         "low": [
          152.8227248089473,
          152.54071781140777,
          147.3819119276028,
          151.22445335764135,
          151.573011019912,
          155.5874341543014,
          154.00090255907241,
          154.84049878713742,
          156.04499193263877,
          153.5993452410963,
          145.98788779699635,
          150.85538978483592,
          150.5174115383317,
          149.341754920856,
          149.83537129907668,
          147.02960533157295,
          146.95962856378858,
          153.40621366812098,
          154.53454195073408,
          153.1332984457636,
          150.39619626296098,
          150.71562330884967,
          152.40676382103015,
          154.5301568533973,
          154.08514958708858,
          154.6148557408287
         ],
         "open": [
          154.5267425102124,
          152.59490606880925,
          151.8204328413943,
          152.97902842040173,
          152.15834610205002,
          156.0079681848764,
          154.36471759089338,
          158.60738971343213,
          156.10176015647585,
          155.0279056725056,
          150.06023020994104,
          154.60846354304022,
          151.03303088251135,
          151.2877633145268,
          151.43193948702876,
          150.39219761195815,
          150.91752378241782,
          153.8129575713305,
          159.46454726984842,
          154.99338887472751,
          152.54116639983607,
          151.17205669278033,
          153.12172223129434,
          156.38336758873174,
          156.54827510854287,
          156.95815895079932
         ],
         "type": "candlestick",
         "x": [
          "2024-09-27T10:50:00",
          "2024-09-27T11:55:00",
          "2024-09-27T13:35:00",
          "2024-09-27T13:40:00",
          "2024-09-27T13:45:00",
          "2024-09-27T14:10:00",
          "2024-09-27T14:20:00",
          "2024-09-27T15:15:00",
          "2024-09-27T16:00:00",
          "2024-09-27T16:50:00",
          "2024-09-27T09:30:00",
          "2024-09-27T10:20:00",
          "2024-09-27T11:20:00",
          "2024-09-27T11:50:00",
          "2024-09-27T12:10:00",
          "2024-09-27T12:50:00",
          "2024-09-27T13:00:00",
          "2024-09-27T14:35:00",
          "2024-09-27T15:10:00",
          "2024-09-27T10:40:00",
          "2024-09-27T11:05:00",
          "2024-09-27T12:05:00",
          "2024-09-27T13:50:00",
          "2024-09-27T14:55:00",
          "2024-09-27T15:55:00",
          "2024-09-27T16:05:00"
         ]
        }
       ],
       "layout": {
        "annotations": [
         {
          "arrowhead": 1,
          "showarrow": true,
          "text": "Bullish Engulfing",
          "x": "2024-09-27T11:50:00",
          "y": 152.9314720525022
         },
         {
          "arrowhead": 1,
          "showarrow": true,
          "text": "Bullish Engulfing",
          "x": "2024-09-27T11:50:00",
          "y": 152.9314720525022
         },
         {
          "arrowhead": 1,
          "showarrow": true,
          "text": "Bullish Engulfing",
          "x": "2024-09-27T12:50:00",
          "y": 152.34130212921792
         },
         {
          "arrowhead": 1,
          "showarrow": true,
          "text": "Bullish Engulfing",
          "x": "2024-09-27T11:50:00",
          "y": 152.9314720525022
         },
         {
          "arrowhead": 1,
          "showarrow": true,
          "text": "Bullish Engulfing",
          "x": "2024-09-27T12:50:00",
          "y": 152.34130212921792
         }
        ],
        "template": {
         "data": {
          "bar": [
           {
            "error_x": {
             "color": "#2a3f5f"
            },
            "error_y": {
             "color": "#2a3f5f"
            },
            "marker": {
             "line": {
              "color": "#E5ECF6",
              "width": 0.5
             },
             "pattern": {
              "fillmode": "overlay",
              "size": 10,
              "solidity": 0.2
             }
            },
            "type": "bar"
           }
          ],
          "barpolar": [
           {
            "marker": {
             "line": {
              "color": "#E5ECF6",
              "width": 0.5
             },
             "pattern": {
              "fillmode": "overlay",
              "size": 10,
              "solidity": 0.2
             }
            },
            "type": "barpolar"
           }
          ],
          "carpet": [
           {
            "aaxis": {
             "endlinecolor": "#2a3f5f",
             "gridcolor": "white",
             "linecolor": "white",
             "minorgridcolor": "white",
             "startlinecolor": "#2a3f5f"
            },
            "baxis": {
             "endlinecolor": "#2a3f5f",
             "gridcolor": "white",
             "linecolor": "white",
             "minorgridcolor": "white",
             "startlinecolor": "#2a3f5f"
            },
            "type": "carpet"
           }
          ],
          "choropleth": [
           {
            "colorbar": {
             "outlinewidth": 0,
             "ticks": ""
            },
            "type": "choropleth"
           }
          ],
          "contour": [
           {
            "colorbar": {
             "outlinewidth": 0,
             "ticks": ""
            },
            "colorscale": [
             [
              0,
              "#0d0887"
             ],
             [
              0.1111111111111111,
              "#46039f"
             ],
             [
              0.2222222222222222,
              "#7201a8"
             ],
             [
              0.3333333333333333,
              "#9c179e"
             ],
             [
              0.4444444444444444,
              "#bd3786"
             ],
             [
              0.5555555555555556,
              "#d8576b"
             ],
             [
              0.6666666666666666,
              "#ed7953"
             ],
             [
              0.7777777777777778,
              "#fb9f3a"
             ],
             [
              0.8888888888888888,
              "#fdca26"
             ],
             [
              1,
              "#f0f921"
             ]
            ],
            "type": "contour"
           }
          ],
          "contourcarpet": [
           {
            "colorbar": {
             "outlinewidth": 0,
             "ticks": ""
            },
            "type": "contourcarpet"
           }
          ],
          "heatmap": [
           {
            "colorbar": {
             "outlinewidth": 0,
             "ticks": ""
            },
            "colorscale": [
             [
              0,
              "#0d0887"
             ],
             [
              0.1111111111111111,
              "#46039f"
             ],
             [
              0.2222222222222222,
              "#7201a8"
             ],
             [
              0.3333333333333333,
              "#9c179e"
             ],
             [
              0.4444444444444444,
              "#bd3786"
             ],
             [
              0.5555555555555556,
              "#d8576b"
             ],
             [
              0.6666666666666666,
              "#ed7953"
             ],
             [
              0.7777777777777778,
              "#fb9f3a"
             ],
             [
              0.8888888888888888,
              "#fdca26"
             ],
             [
              1,
              "#f0f921"
             ]
            ],
            "type": "heatmap"
           }
          ],
          "heatmapgl": [
           {
            "colorbar": {
             "outlinewidth": 0,
             "ticks": ""
            },
            "colorscale": [
             [
              0,
              "#0d0887"
             ],
             [
              0.1111111111111111,
              "#46039f"
             ],
             [
              0.2222222222222222,
              "#7201a8"
             ],
             [
              0.3333333333333333,
              "#9c179e"
             ],
             [
              0.4444444444444444,
              "#bd3786"
             ],
             [
              0.5555555555555556,
              "#d8576b"
             ],
             [
              0.6666666666666666,
              "#ed7953"
             ],
             [
              0.7777777777777778,
              "#fb9f3a"
             ],
             [
              0.8888888888888888,
              "#fdca26"
             ],
             [
              1,
              "#f0f921"
             ]
            ],
            "type": "heatmapgl"
           }
          ],
          "histogram": [
           {
            "marker": {
             "pattern": {
              "fillmode": "overlay",
              "size": 10,
              "solidity": 0.2
             }
            },
            "type": "histogram"
           }
          ],
          "histogram2d": [
           {
            "colorbar": {
             "outlinewidth": 0,
             "ticks": ""
            },
            "colorscale": [
             [
              0,
              "#0d0887"
             ],
             [
              0.1111111111111111,
              "#46039f"
             ],
             [
              0.2222222222222222,
              "#7201a8"
             ],
             [
              0.3333333333333333,
              "#9c179e"
             ],
             [
              0.4444444444444444,
              "#bd3786"
             ],
             [
              0.5555555555555556,
              "#d8576b"
             ],
             [
              0.6666666666666666,
              "#ed7953"
             ],
             [
              0.7777777777777778,
              "#fb9f3a"
             ],
             [
              0.8888888888888888,
              "#fdca26"
             ],
             [
              1,
              "#f0f921"
             ]
            ],
            "type": "histogram2d"
           }
          ],
          "histogram2dcontour": [
           {
            "colorbar": {
             "outlinewidth": 0,
             "ticks": ""
            },
            "colorscale": [
             [
              0,
              "#0d0887"
             ],
             [
              0.1111111111111111,
              "#46039f"
             ],
             [
              0.2222222222222222,
              "#7201a8"
             ],
             [
              0.3333333333333333,
              "#9c179e"
             ],
             [
              0.4444444444444444,
              "#bd3786"
             ],
             [
              0.5555555555555556,
              "#d8576b"
             ],
             [
              0.6666666666666666,
              "#ed7953"
             ],
             [
              0.7777777777777778,
              "#fb9f3a"
             ],
             [
              0.8888888888888888,
              "#fdca26"
             ],
             [
              1,
              "#f0f921"
             ]
            ],
            "type": "histogram2dcontour"
           }
          ],
          "mesh3d": [
           {
            "colorbar": {
             "outlinewidth": 0,
             "ticks": ""
            },
            "type": "mesh3d"
           }
          ],
          "parcoords": [
           {
            "line": {
             "colorbar": {
              "outlinewidth": 0,
              "ticks": ""
             }
            },
            "type": "parcoords"
           }
          ],
          "pie": [
           {
            "automargin": true,
            "type": "pie"
           }
          ],
          "scatter": [
           {
            "fillpattern": {
             "fillmode": "overlay",
             "size": 10,
             "solidity": 0.2
            },
            "type": "scatter"
           }
          ],
          "scatter3d": [
           {
            "line": {
             "colorbar": {
              "outlinewidth": 0,
              "ticks": ""
             }
            },
            "marker": {
             "colorbar": {
              "outlinewidth": 0,
              "ticks": ""
             }
            },
            "type": "scatter3d"
           }
          ],
          "scattercarpet": [
           {
            "marker": {
             "colorbar": {
              "outlinewidth": 0,
              "ticks": ""
             }
            },
            "type": "scattercarpet"
           }
          ],
          "scattergeo": [
           {
            "marker": {
             "colorbar": {
              "outlinewidth": 0,
              "ticks": ""
             }
            },
            "type": "scattergeo"
           }
          ],
          "scattergl": [
           {
            "marker": {
             "colorbar": {
              "outlinewidth": 0,
              "ticks": ""
             }
            },
            "type": "scattergl"
           }
          ],
          "scattermapbox": [
           {
            "marker": {
             "colorbar": {
              "outlinewidth": 0,
              "ticks": ""
             }
            },
            "type": "scattermapbox"
           }
          ],
          "scatterpolar": [
           {
            "marker": {
             "colorbar": {
              "outlinewidth": 0,
              "ticks": ""
             }
            },
            "type": "scatterpolar"
           }
          ],
          "scatterpolargl": [
           {
            "marker": {
             "colorbar": {
              "outlinewidth": 0,
              "ticks": ""
             }
            },
            "type": "scatterpolargl"
           }
          ],
          "scatterternary": [
           {
            "marker": {
             "colorbar": {
              "outlinewidth": 0,
              "ticks": ""
             }
            },
            "type": "scatterternary"
           }
          ],
          "surface": [
           {
            "colorbar": {
             "outlinewidth": 0,
             "ticks": ""
            },
            "colorscale": [
             [
              0,
              "#0d0887"
             ],
             [
              0.1111111111111111,
              "#46039f"
             ],
             [
              0.2222222222222222,
              "#7201a8"
             ],
             [
              0.3333333333333333,
              "#9c179e"
             ],
             [
              0.4444444444444444,
              "#bd3786"
             ],
             [
              0.5555555555555556,
              "#d8576b"
             ],
             [
              0.6666666666666666,
              "#ed7953"
             ],
             [
              0.7777777777777778,
              "#fb9f3a"
             ],
             [
              0.8888888888888888,
              "#fdca26"
             ],
             [
              1,
              "#f0f921"
             ]
            ],
            "type": "surface"
           }
          ],
          "table": [
           {
            "cells": {
             "fill": {
              "color": "#EBF0F8"
             },
             "line": {
              "color": "white"
             }
            },
            "header": {
             "fill": {
              "color": "#C8D4E3"
             },
             "line": {
              "color": "white"
             }
            },
            "type": "table"
           }
          ]
         },
         "layout": {
          "annotationdefaults": {
           "arrowcolor": "#2a3f5f",
           "arrowhead": 0,
           "arrowwidth": 1
          },
          "autotypenumbers": "strict",
          "coloraxis": {
           "colorbar": {
            "outlinewidth": 0,
            "ticks": ""
           }
          },
          "colorscale": {
           "diverging": [
            [
             0,
             "#8e0152"
            ],
            [
             0.1,
             "#c51b7d"
            ],
            [
             0.2,
             "#de77ae"
            ],
            [
             0.3,
             "#f1b6da"
            ],
            [
             0.4,
             "#fde0ef"
            ],
            [
             0.5,
             "#f7f7f7"
            ],
            [
             0.6,
             "#e6f5d0"
            ],
            [
             0.7,
             "#b8e186"
            ],
            [
             0.8,
             "#7fbc41"
            ],
            [
             0.9,
             "#4d9221"
            ],
            [
             1,
             "#276419"
            ]
           ],
           "sequential": [
            [
             0,
             "#0d0887"
            ],
            [
             0.1111111111111111,
             "#46039f"
            ],
            [
             0.2222222222222222,
             "#7201a8"
            ],
            [
             0.3333333333333333,
             "#9c179e"
            ],
            [
             0.4444444444444444,
             "#bd3786"
            ],
            [
             0.5555555555555556,
             "#d8576b"
            ],
            [
             0.6666666666666666,
             "#ed7953"
            ],
            [
             0.7777777777777778,
             "#fb9f3a"
            ],
            [
             0.8888888888888888,
             "#fdca26"
            ],
            [
             1,
             "#f0f921"
            ]
           ],
           "sequentialminus": [
            [
             0,
             "#0d0887"
            ],
            [
             0.1111111111111111,
             "#46039f"
            ],
            [
             0.2222222222222222,
             "#7201a8"
            ],
            [
             0.3333333333333333,
             "#9c179e"
            ],
            [
             0.4444444444444444,
             "#bd3786"
            ],
            [
             0.5555555555555556,
             "#d8576b"
            ],
            [
             0.6666666666666666,
             "#ed7953"
            ],
            [
             0.7777777777777778,
             "#fb9f3a"
            ],
            [
             0.8888888888888888,
             "#fdca26"
            ],
            [
             1,
             "#f0f921"
            ]
           ]
          },
          "colorway": [
           "#636efa",
           "#EF553B",
           "#00cc96",
           "#ab63fa",
           "#FFA15A",
           "#19d3f3",
           "#FF6692",
           "#B6E880",
           "#FF97FF",
           "#FECB52"
          ],
          "font": {
           "color": "#2a3f5f"
          },
          "geo": {
           "bgcolor": "white",
           "lakecolor": "white",
           "landcolor": "#E5ECF6",
           "showlakes": true,
           "showland": true,
           "subunitcolor": "white"
          },
          "hoverlabel": {
           "align": "left"
          },
          "hovermode": "closest",
          "mapbox": {
           "style": "light"
          },
          "paper_bgcolor": "white",
          "plot_bgcolor": "#E5ECF6",
          "polar": {
           "angularaxis": {
            "gridcolor": "white",
            "linecolor": "white",
            "ticks": ""
           },
           "bgcolor": "#E5ECF6",
           "radialaxis": {
            "gridcolor": "white",
            "linecolor": "white",
            "ticks": ""
           }
          },
          "scene": {
           "xaxis": {
            "backgroundcolor": "#E5ECF6",
            "gridcolor": "white",
            "gridwidth": 2,
            "linecolor": "white",
            "showbackground": true,
            "ticks": "",
            "zerolinecolor": "white"
           },
           "yaxis": {
            "backgroundcolor": "#E5ECF6",
            "gridcolor": "white",
            "gridwidth": 2,
            "linecolor": "white",
            "showbackground": true,
            "ticks": "",
            "zerolinecolor": "white"
           },
           "zaxis": {
            "backgroundcolor": "#E5ECF6",
            "gridcolor": "white",
            "gridwidth": 2,
            "linecolor": "white",
            "showbackground": true,
            "ticks": "",
            "zerolinecolor": "white"
           }
          },
          "shapedefaults": {
           "line": {
            "color": "#2a3f5f"
           }
          },
          "ternary": {
           "aaxis": {
            "gridcolor": "white",
            "linecolor": "white",
            "ticks": ""
           },
           "baxis": {
            "gridcolor": "white",
            "linecolor": "white",
            "ticks": ""
           },
           "bgcolor": "#E5ECF6",
           "caxis": {
            "gridcolor": "white",
            "linecolor": "white",
            "ticks": ""
           }
          },
          "title": {
           "x": 0.05
          },
          "xaxis": {
           "automargin": true,
           "gridcolor": "white",
           "linecolor": "white",
           "ticks": "",
           "title": {
            "standoff": 15
           },
           "zerolinecolor": "white",
           "zerolinewidth": 2
          },
          "yaxis": {
           "automargin": true,
           "gridcolor": "white",
           "linecolor": "white",
           "ticks": "",
           "title": {
            "standoff": 15
           },
           "zerolinecolor": "white",
           "zerolinewidth": 2
          }
         }
        },
        "title": {
         "text": "NVDA Candlestick Chart with Bullish Engulfing Annotations"
        },
        "xaxis": {
         "rangeslider": {
          "visible": false
         },
         "title": {
          "text": "Date"
         }
        },
        "yaxis": {
         "title": {
          "text": "Price"
         }
        }
       }
      }
     },
     "metadata": {},
     "output_type": "display_data"
    }
   ],
   "source": [
    "import pandas as pd\n",
    "import plotly.graph_objects as go\n",
    "\n",
    "# Convert alert_data to a DataFrame for easier manipulation\n",
    "alert_df = pd.DataFrame([(symbol, alert['date'], alert['alert']) for symbol, alerts in alert_data.items() for alert in alerts], columns=['symbol', 'date', 'alert'])\n",
    "\n",
    "# Convert date column to datetime\n",
    "alert_df['date'] = pd.to_datetime(alert_df['date'])\n",
    "\n",
    "# Function to plot candlestick chart with annotations\n",
    "def plot_candlestick_with_annotations(symbol, data, alerts):\n",
    "    # Filter data for the selected symbol\n",
    "    symbol_data = data[data['symbol'] == symbol]\n",
    "    \n",
    "    # Create the candlestick chart\n",
    "    fig = go.Figure(data=[go.Candlestick(\n",
    "        x=symbol_data['datetime'],\n",
    "        open=symbol_data['open'],\n",
    "        high=symbol_data['high'],\n",
    "        low=symbol_data['low'],\n",
    "        close=symbol_data['close']\n",
    "    )])\n",
    "    \n",
    "    # Add annotations for bullish engulfing patterns\n",
    "    for _, alert in alerts.iterrows():\n",
    "        if alert['alert'] == 'bullish_engulfing':\n",
    "            fig.add_annotation(\n",
    "                x=alert['date'],\n",
    "                y=symbol_data[symbol_data['datetime'] == alert['date']]['close'].values[0],\n",
    "                text=\"Bullish Engulfing\",\n",
    "                showarrow=True,\n",
    "                arrowhead=1\n",
    "            )\n",
    "    \n",
    "    # Update layout\n",
    "    fig.update_layout(\n",
    "        title=f'{symbol} Candlestick Chart with Bullish Engulfing Annotations',\n",
    "        xaxis_title='Date',\n",
    "        yaxis_title='Price',\n",
    "        xaxis_rangeslider_visible=False\n",
    "    )\n",
    "    \n",
    "    fig.show()\n",
    "\n",
    "# Filter alerts for a specific symbol\n",
    "symbol = 'NVDA'\n",
    "symbol_alerts = alert_df[alert_df['symbol'] == symbol]\n",
    "\n",
    "# Plot the candlestick chart with annotations\n",
    "plot_candlestick_with_annotations(symbol, test_data, symbol_alerts)"
   ]
  }
 ],
 "metadata": {
  "kernelspec": {
   "display_name": ".venv",
   "language": "python",
   "name": "python3"
  },
  "language_info": {
   "codemirror_mode": {
    "name": "ipython",
    "version": 3
   },
   "file_extension": ".py",
   "mimetype": "text/x-python",
   "name": "python",
   "nbconvert_exporter": "python",
   "pygments_lexer": "ipython3",
   "version": "3.10.11"
  }
 },
 "nbformat": 4,
 "nbformat_minor": 2
}
