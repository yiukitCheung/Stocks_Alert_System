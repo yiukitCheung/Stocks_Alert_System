{
 "cells": [
  {
   "cell_type": "code",
   "execution_count": 1,
   "metadata": {},
   "outputs": [],
   "source": [
    "import pandas as pd\n",
    "import numpy as np\n",
    "import ta\n",
    "import pymongo\n",
    "\n",
    "# Fetch data from database\n",
    "\n",
    "# Connect to MongoDB\n",
    "client = pymongo.MongoClient(\"mongodb://localhost:27017/\")\n",
    "# Select the database\n",
    "db = client[\"stock_data_db\"]\n",
    "# Select the collection\n",
    "collection = db[\"stock_data\"]\n",
    "# Fetch all data\n",
    "data=collection.find({})\n",
    "# Convert to pandas dataframe\n",
    "df = pd.DataFrame(list(data))"
   ]
  },
  {
   "cell_type": "code",
   "execution_count": null,
   "metadata": {},
   "outputs": [],
   "source": [
    "df"
   ]
  }
 ],
 "metadata": {
  "language_info": {
   "name": "python"
  }
 },
 "nbformat": 4,
 "nbformat_minor": 2
}
