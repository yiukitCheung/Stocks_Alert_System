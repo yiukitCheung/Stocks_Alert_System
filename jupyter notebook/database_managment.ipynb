{
 "cells": [
  {
   "cell_type": "code",
   "execution_count": 1,
   "metadata": {},
   "outputs": [
    {
     "name": "stdout",
     "output_type": "stream",
     "text": [
      "Deleted 32 documents from the collection.\n"
     ]
    }
   ],
   "source": [
    "from pymongo import MongoClient\n",
    "\n",
    "# Initialize MongoDB client\n",
    "client = MongoClient('mongodb://localhost:27017/')\n",
    "db = client['stock_data_db']\n",
    "collection = db['stock_data']\n",
    "\n",
    "# Delete all documents in the collection\n",
    "result = collection.delete_many({})\n",
    "\n",
    "# Output the number of documents deleted\n",
    "print(f\"Deleted {result.deleted_count} documents from the collection.\")"
   ]
  }
 ],
 "metadata": {
  "kernelspec": {
   "display_name": ".venv",
   "language": "python",
   "name": "python3"
  },
  "language_info": {
   "codemirror_mode": {
    "name": "ipython",
    "version": 3
   },
   "file_extension": ".py",
   "mimetype": "text/x-python",
   "name": "python",
   "nbconvert_exporter": "python",
   "pygments_lexer": "ipython3",
   "version": "3.10.11"
  }
 },
 "nbformat": 4,
 "nbformat_minor": 2
}
